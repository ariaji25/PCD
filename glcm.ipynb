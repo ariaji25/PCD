{
 "cells": [
  {
   "cell_type": "code",
<<<<<<< HEAD
   "execution_count": 4,
=======
   "execution_count": 8,
>>>>>>> e68e1fd1f305dae1af5508a9ccbfbbdd158ba801
   "metadata": {},
   "outputs": [],
   "source": [
    "import math\n",
    "import matplotlib.pyplot as plt\n",
    "import matplotlib.image as mpimg\n",
    "import numpy as nm\n",
    "\n",
    "class Glcm:\n",
    "    def __init__(self):\n",
    "        self.result =[] \n",
    "        \n",
    "    def forOder(self,a, b):\n",
    "        print(len(a))\n",
    "        size = 0\n",
    "        for i in a[0]:\n",
    "            size=size+1\n",
    "        for i in range(len(a)):\n",
    "                for j in range(size-1):\n",
    "                    p=a[i][j]\n",
    "                    q=a[i][j+1]\n",
    "                    b[p][q]=b[p][q]+1\n",
    "\n",
    "        matriksIterasi1=list(map(list,zip(*b)))\n",
    "        for i in range(len(b)):\n",
    "                for j in range(len(b)):\n",
    "                    b[i][j]=b[i][j]+matriksIterasi1[i][j]\n",
    "        print(\"Grayscale Dependenc Mariks\")\n",
    "        print(b)\n",
    "        count=0\n",
    "        for i in b:\n",
    "            for j in i:\n",
    "                count=count+j\n",
    "        print()\n",
    "        return self.normalisasi(b, count)\n",
    "\n",
    "    # 45 derajat\n",
    "    def forOder45(self,a, b):\n",
    "        size = 0\n",
    "        for i in a[0]:\n",
    "            size=size+1\n",
    "        for i in range(len(a)-1):\n",
    "                for j in range(size-1):\n",
    "                    p=a[i][j+1]\n",
    "                    q=a[i+1][j]\n",
    "                    \n",
    "                    b[p][q]=b[p][q]+1\n",
    "        matriksIterasi1=list(map(list,zip(*b)))\n",
    "        for i in range(len(b)):\n",
    "                for j in range(len(b)):\n",
    "                    b[i][j]=b[i][j]+matriksIterasi1[i][j]\n",
    "        print(\"Grayscale Dependenc Mariks 45 derajat\")\n",
    "        count=0\n",
    "        for i in b:\n",
    "            for j in i:\n",
    "                count=count+j\n",
    "        print()\n",
    "        return self.normalisasi(b, count)\n",
    "\n",
    "    # 90 derajat\n",
    "    def forOder90(self,a, b):\n",
    "        size = 0\n",
    "        for i in a[0]:\n",
    "            size=size+1\n",
    "        for i in range(len(a)-1):\n",
    "                for j in range(size):\n",
    "                    p=a[i][j]\n",
    "                    q=a[i+1][j]\n",
    "                    b[p][q]=b[p][q]+1          \n",
    "        matriksIterasi1=list(map(list,zip(*b)))\n",
    "        for i in range(4):\n",
    "                for j in range(4):\n",
    "                    b[i][j]=b[i][j]+matriksIterasi1[i][j]\n",
    "        print(\"Grayscale Dependenc Mariks 90 derajat\")\n",
    "        count=0\n",
    "        for i in b:\n",
    "            for j in i:\n",
    "                count=count+j\n",
    "        print()\n",
    "        return self.normalisasi(b, count)\n",
    "\n",
    "        # 135 derajat\n",
    "    def forOder135(self,a, b):\n",
    "        size = 0\n",
    "        for i in a[0]:\n",
    "            size=size+1\n",
    "        for i in range(len(a)-1):\n",
    "                for j in range(size-1):\n",
    "                    p=a[i][j]\n",
    "                    q=a[i+1][j+1]\n",
    "                    b[p][q]=b[p][q]+1\n",
    "\n",
    "        matriksIterasi1=list(map(list,zip(*b)))\n",
    "        for i in range(len(b)):\n",
    "                for j in range(len(b)):\n",
    "                    b[i][j]=b[i][j]+matriksIterasi1[i][j]\n",
    "        print(\"Grayscale Dependenc Mariks 135 derajat\")\n",
    "        count=0\n",
    "        for i in b:\n",
    "            for j in i:\n",
    "                count=count+j\n",
    "        print()\n",
    "        return self.normalisasi(b, count)\n",
    "\n",
    "    def normalisasi(self,data, counter):\n",
    "        print(\"Matriks coocurence\")\n",
    "#         imgplt = plt.imshow(data)\n",
    "#         plt.show()\n",
    "        for i in range(len(data)):\n",
    "                for j in range(len(data)):\n",
    "                     data[i][j]=data[i][j]/counter\n",
    "#         for i in data:\n",
    "#                 print(i)\n",
    "#         self.asmMethod(data)\n",
    "#         self.ent2Method(data)\n",
    "#         self.idmMethod(data)\n",
    "#         self.contrasMethod(data)\n",
    "        return data\n",
    "\n",
    "    def asmMethod(self, data):\n",
    "        sume =0\n",
    "        for i in range(len(data)-1):\n",
    "            for j in range(len(data[i])-1):\n",
    "                sume =sume + data[i][j]*data[i][j]\n",
    "#                 sume = sume*sume\n",
    "        print(\"ASM :\")\n",
    "        print(sume)\n",
    "        return sume;\n",
    "#         self.contrasMethod(data)\n",
    "    \n",
    "    \n",
    "    def contrasMethod(self, data):\n",
    "        result = 0\n",
    "        n = 0\n",
    "        for n in range(len(data)-1):\n",
    "            for i in range(len(data)-1):\n",
    "                for j in range(len(data[i])-1):\n",
    "                    if abs(i-j)==n:\n",
    "                        result = result+data[i][j]\n",
    "                \n",
    "        print(\"Contras :\")\n",
    "        print(result)\n",
    "        return result;\n",
    "    \n",
    "    def idmMethod(self, data):\n",
    "        result = 0\n",
    "        for i in range(len(data)-1):\n",
    "            for j in range(len(data)-1):\n",
    "                kiri = 1/(1+((i-j)**2))\n",
    "                tot = kiri*data[i][j]\n",
    "                result = result + tot\n",
    "        print(\"Invert Different Moment : \")\n",
    "        print(result)\n",
    "        return result;\n",
    "        \n",
<<<<<<< HEAD
    "    def ent2Method(this, data):\n",
    "        result = 0\n",
=======
    "    def ent2Method(self, data):\n",
    "        result = 0;\n",
>>>>>>> e68e1fd1f305dae1af5508a9ccbfbbdd158ba801
    "        for i in range(len(data)-1):\n",
    "            for j in range(len(data)-1):\n",
    "                if(data[i][j]>0.0):\n",
    "                    value = data[i][j]*math.log2(data[i][j])\n",
    "                    result = result + value\n",
    "        print(\"Entropy : \")\n",
    "        print(result)\n",
<<<<<<< HEAD
    "        \n",
    "    def corMethod(this, data):\n",
    "        data = nm.array(data)\n",
    "        result = 0\n",
    "        for i in range(len(data)-1):\n",
    "            for j in range(len(data)-1):\n",
    "                meanX = meanColumnMatrix(data[:,j])\n",
    "                meanY = meanRowMatrix(data[i,:])\n",
    "                stdCol = stdColumn(data[:,j], meanX)\n",
    "                stdrow = stdRow(data[i,:], meanY)\n",
    "                result = result + (((i*j*data[i][j]) - (meanX*meanY))/(stdCol*stdRow))\n",
    "        print(\"Corelation : \")\n",
    "        print(result)\n",
    "        \n",
    "    def varMethod(this, data):\n",
    "        data = nm.array(data)\n",
    "        result = 0\n",
    "        for i in range(len(data)-1):\n",
    "            for j in range(len(data)-1):\n",
    "                meanX = meanColumnMatrix(data[:,j])\n",
    "                meanY = meanRowMatrix(data[i,:])\n",
    "                result = result + ((i-meanX)*(j*meanY)*data[i,j])\n",
    "        print(\"Variance : \")\n",
    "        print(result)\n",
    "                \n",
    "    def meanColumnMatrix(this, kolom):\n",
    "        return sum(kolom)/len(kolom)\n",
    "        \n",
    "    def meanRowMatrix(this, row, baris):\n",
    "        return sum(baris)/len(kolom)\n",
    "    \n",
    "    def stdColumn(this, kolom, mean):\n",
    "        sum = 0\n",
    "        total = len(kolom)-1\n",
    "        for x in range(total):\n",
    "            atas = (kolom[x]-mean)**2\n",
    "            sum = sum + (atas/total)\n",
    "        return math.sqrt(sum)\n",
    "    \n",
    "    def stdRow(this, baris, mean):\n",
    "        sum = 0\n",
    "        total = len(baris)-1\n",
    "        for x in range(total):\n",
    "            atas = (baris[x]-mean)**2\n",
    "            sum = sum + (atas/total)\n",
    "        return math.sqrt(sum)"
=======
    "        return result;"
>>>>>>> e68e1fd1f305dae1af5508a9ccbfbbdd158ba801
   ]
  },
  {
   "cell_type": "code",
<<<<<<< HEAD
   "execution_count": 5,
=======
   "execution_count": 9,
>>>>>>> e68e1fd1f305dae1af5508a9ccbfbbdd158ba801
   "metadata": {},
   "outputs": [],
   "source": [
    "from PIL import Image\n",
    "import os \n",
    "from io import BytesIO\n",
    "import csv\n",
    "\n",
    "\n",
    "class Data:\n",
    "    def __init__(self):\n",
    "#         self.citra = [\n",
    "#             [1,0,3,2,1,0,2],\n",
    "#             [0,1,2,3,2,1,0],\n",
    "#             [2,0,1,2,3,0,2],\n",
    "#             [3,2,0,1,0,3,0],\n",
    "#             [1,3,2,0,1,2,3],\n",
    "#         ]\n",
    "        self.citra = [\n",
    "            [0,0,1,1],\n",
    "            [0,0,1,1],\n",
    "            [0,2,2,2],\n",
    "            [2,2,3,3]\n",
    "        ]\n",
    "        im = Image.open(\"2_bit.png\")\n",
    "        img=mpimg.imread('2_bit.png')\n",
    "        sh = plt.imshow(self.citra)\n",
    "        plt.show()\n",
    "        self.pixel=list(im.getdata())\n",
    "        width, height = im.size\n",
    "        self.pixel=[self.pixel[i * width:(i + 1) * width] for i in range(height)]\n",
    "#        \n",
    "        self.matriksIterasi =[\n",
    "            [0,0,0,0],\n",
    "            [0,0,0,0],\n",
    "            [0,0,0,0],\n",
    "            [0,0,0,0],\n",
    "        ]\n",
    "    def insertoCsv(self,message, asm, contras, invert, entropy ):\n",
    "        row = [message, asm, contras, invert, entropy]\n",
    "#         row =[\"v\", \"b\", \"c\", \"d\", \"e\"]\n",
    "        with open('glcm1.csv', 'a') as csvFile:\n",
    "            writer = csv.writer(csvFile)\n",
    "            writer.writerow(row)\n",
    "        print(\"succes\")\n",
    "        csvFile.close()"
   ]
  },
  {
   "cell_type": "code",
<<<<<<< HEAD
   "execution_count": 6,
=======
   "execution_count": 10,
>>>>>>> e68e1fd1f305dae1af5508a9ccbfbbdd158ba801
   "metadata": {},
   "outputs": [
    {
     "name": "stdout",
     "output_type": "stream",
     "text": [
<<<<<<< HEAD
      "4\n",
      "Grayscale Dependenc Mariks\n",
      "[[4, 2, 1, 0], [2, 4, 0, 0], [1, 0, 6, 1], [0, 0, 1, 2]]\n",
      "\n",
      "Matriks coocurence\n"
=======
      "succes\n"
>>>>>>> e68e1fd1f305dae1af5508a9ccbfbbdd158ba801
     ]
    }
   ],
   "source": [
    "row =[\"Matriks\", \"asm\", \"cont\", \"idm\", \"e\"]\n",
    "with open('glcm1.csv', 'a') as csvFile:\n",
    "    writer = csv.writer(csvFile)\n",
    "    writer.writerow(row)\n",
    "    print(\"succes\")\n",
    "csvFile.close()"
   ]
  },
  {
   "cell_type": "code",
   "execution_count": 11,
   "metadata": {},
   "outputs": [
    {
     "data": {
      "image/png": "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\n",
      "text/plain": [
       "<Figure size 432x288 with 1 Axes>"
      ]
     },
     "metadata": {
      "needs_background": "light"
     },
     "output_type": "display_data"
    },
    {
     "name": "stdout",
     "output_type": "stream",
     "text": [
      "4\n",
      "Grayscale Dependenc Mariks\n",
      "\n",
      "Matriks coocurence\n",
      "[0.16666666666666666, 0.08333333333333333, 0.041666666666666664, 0.0]\n",
      "[0.08333333333333333, 0.16666666666666666, 0.0, 0.0]\n",
      "[0.041666666666666664, 0.0, 0.25, 0.041666666666666664]\n",
      "[0.0, 0.0, 0.041666666666666664, 0.08333333333333333]\n",
      "\n",
      "ASM :\n",
      "0.13541666666666666\n",
      "Invert Different Moment : \n",
      "0.6833333333333333\n",
      "Contras :\n",
      "0.8333333333333333\n",
      "Entropy : \n",
      "-2.341228125420674\n",
      "0.13541666666666666\n",
      "succes\n"
     ]
    }
   ],
   "source": [
    "# Matriks iterasi 0 derajat\n",
    "glcm = Glcm()\n",
    "data = Data()\n",
    "nor0 = glcm.forOder(data.citra, data.matriksIterasi)\n",
    "for i in nor0:\n",
    "    print(i)\n",
    "print()\n",
    "asm = glcm.asmMethod(nor0)\n",
    "idm = glcm.idmMethod(nor0)\n",
    "cont = glcm.contrasMethod(nor0)\n",
    "ent = glcm.ent2Method(nor0)\n",
    "print(asm)\n",
    "data.insertoCsv(\"0 derajat\", asm, cont, idm, ent)"
   ]
  },
  {
   "cell_type": "code",
   "execution_count": 12,
   "metadata": {},
   "outputs": [
    {
     "data": {
      "image/png": "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\n",
      "text/plain": [
       "<Figure size 432x288 with 1 Axes>"
      ]
     },
     "metadata": {
      "needs_background": "light"
     },
     "output_type": "display_data"
    },
    {
     "name": "stdout",
     "output_type": "stream",
     "text": [
      "Grayscale Dependenc Mariks 45 derajat\n",
      "\n",
      "Matriks coocurence\n",
      "[0.2222222222222222, 0.05555555555555555, 0.0, 0.0]\n",
      "[0.05555555555555555, 0.1111111111111111, 0.1111111111111111, 0.0]\n",
      "[0.0, 0.1111111111111111, 0.2222222222222222, 0.05555555555555555]\n",
      "[0.0, 0.0, 0.05555555555555555, 0.0]\n",
      "\n",
      "ASM :\n",
      "0.1419753086419753\n",
      "Invert Different Moment : \n",
      "0.7222222222222222\n",
      "Contras :\n",
      "0.8888888888888891\n",
      "Entropy : \n",
      "-2.4843777790598334\n",
      "0.1419753086419753\n",
      "succes\n"
     ]
    }
   ],
   "source": [
    "# matriksiterasi 45 derajat\n",
    "\n",
    "data = Data()\n",
    "nor45 = glcm.forOder45(data.citra, data.matriksIterasi)\n",
    "for i in nor45:\n",
    "    print(i)\n",
    "print()\n",
    "asm = glcm.asmMethod(nor45)\n",
    "idm = glcm.idmMethod(nor45)\n",
    "cont = glcm.contrasMethod(nor45)\n",
    "ent = glcm.ent2Method(nor45)\n",
    "print(asm)\n",
    "data.insertoCsv(\"45 derajat\", asm, cont, idm, ent)"
   ]
  },
  {
   "cell_type": "code",
   "execution_count": 13,
   "metadata": {},
   "outputs": [
    {
     "data": {
      "image/png": "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\n",
      "text/plain": [
       "<Figure size 432x288 with 1 Axes>"
      ]
     },
     "metadata": {
      "needs_background": "light"
     },
     "output_type": "display_data"
    },
    {
     "name": "stdout",
     "output_type": "stream",
     "text": [
      "Grayscale Dependenc Mariks 90 derajat\n",
      "\n",
      "Matriks coocurence\n",
      "[0.25, 0.0, 0.08333333333333333, 0.0]\n",
      "[0.0, 0.16666666666666666, 0.08333333333333333, 0.0]\n",
      "[0.08333333333333333, 0.08333333333333333, 0.08333333333333333, 0.08333333333333333]\n",
      "[0.0, 0.0, 0.08333333333333333, 0.0]\n",
      "\n",
      "ASM :\n",
      "0.125\n",
      "Invert Different Moment : \n",
      "0.6166666666666667\n",
      "Contras :\n",
      "0.8333333333333334\n",
      "Entropy : \n",
      "-2.4245614587540074\n",
      "0.125\n",
      "succes\n"
     ]
    }
   ],
   "source": [
    "# matriks iterasi 90 derajat\n",
    "data = Data()\n",
    "nor90 = glcm.forOder90(data.citra, data.matriksIterasi)\n",
    "for i in nor90:\n",
    "    print(i)\n",
    "print()\n",
    "asm = glcm.asmMethod(nor90)\n",
    "idm = glcm.idmMethod(nor90)\n",
    "cont = glcm.contrasMethod(nor90)\n",
    "ent = glcm.ent2Method(nor90)\n",
    "print(asm)\n",
    "data.insertoCsv(\"90 derajat\", asm, cont, idm, ent)\n"
   ]
  },
  {
   "cell_type": "code",
   "execution_count": 14,
   "metadata": {},
   "outputs": [
    {
     "data": {
      "image/png": "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\n",
      "text/plain": [
       "<Figure size 432x288 with 1 Axes>"
      ]
     },
     "metadata": {
      "needs_background": "light"
     },
     "output_type": "display_data"
    },
    {
     "name": "stdout",
     "output_type": "stream",
     "text": [
      "Grayscale Dependenc Mariks 135 derajat\n",
      "\n",
      "Matriks coocurence\n",
      "[0.1111111111111111, 0.05555555555555555, 0.16666666666666666, 0.0]\n",
      "[0.05555555555555555, 0.1111111111111111, 0.05555555555555555, 0.0]\n",
      "[0.16666666666666666, 0.05555555555555555, 0.0, 0.1111111111111111]\n",
      "[0.0, 0.0, 0.1111111111111111, 0.0]\n",
      "\n",
      "ASM :\n",
      "0.09259259259259259\n",
      "Invert Different Moment : \n",
      "0.4\n",
      "Contras :\n",
      "0.7777777777777778\n",
      "Entropy : \n",
      "-2.492731945325857\n",
      "0.09259259259259259\n",
      "succes\n"
     ]
    }
   ],
   "source": [
    "# matriks iterasi 135 derajat\n",
    "\n",
    "data = Data()\n",
    "nor135 = glcm.forOder135(data.citra, data.matriksIterasi)\n",
    "for i in nor135:\n",
    "    print(i)\n",
    "print()\n",
    "asm = glcm.asmMethod(nor135)\n",
    "idm = glcm.idmMethod(nor135)\n",
    "cont = glcm.contrasMethod(nor135)\n",
    "ent = glcm.ent2Method(nor135)\n",
    "print(asm)\n",
    "data.insertoCsv(\"135 derajat\", asm, cont, idm, ent)\n"
   ]
  },
  {
   "cell_type": "code",
   "execution_count": 15,
   "metadata": {},
   "outputs": [
    {
     "name": "stdout",
     "output_type": "stream",
     "text": [
      "\n",
      "Normalisasi :\n",
      "[0.6666666666666666, 0.1527777777777778, 0.16666666666666666, 0.0]\n",
      "[0.1527777777777778, 0.4722222222222222, 0.20833333333333331, 0.0]\n",
      "[0.16666666666666666, 0.20833333333333331, 0.5555555555555556, 0.041666666666666664]\n",
      "[0.0, 0.0, 0.041666666666666664, 0.08333333333333333]\n",
      "\n",
      "ASM :\n",
      "1.1651234567901234\n",
      "Invert Different Moment : \n",
      "0.7222222222222222\n",
      "Contras :\n",
      "2.75\n",
      "Entropy : \n",
      "-4.005038560519062\n",
      "1.1651234567901234\n",
      "succes\n"
     ]
    }
   ],
   "source": [
    "# matriks iterasi rata-rata\n",
    "for i in range(len(nor0)-1):\n",
    "    for j in range(len(nor0[i])-1):\n",
    "        nor0[i][j]=nor0[i][j]+nor45[i][j]+nor90[i][j]+nor135[i][j]/4\n",
    "print()\n",
    "print(\"Normalisasi :\")\n",
    "for i in nor0:\n",
    "    print(i)\n",
    "print()\n",
    "asm = glcm.asmMethod(nor0)\n",
    "idm = glcm.idmMethod(nor45)\n",
    "cont = glcm.contrasMethod(nor0)\n",
    "ent = glcm.ent2Method(nor0)\n",
    "print(asm)\n",
    "data.insertoCsv(\"All derajat\", asm, cont, idm, ent)"
   ]
  },
  {
   "cell_type": "code",
   "execution_count": 18,
   "metadata": {},
   "outputs": [],
   "source": [
    "!git add ."
   ]
  }
 ],
 "metadata": {
  "kernelspec": {
   "display_name": "Python 3",
   "language": "python",
   "name": "python3"
  },
  "language_info": {
   "codemirror_mode": {
    "name": "ipython",
    "version": 3
   },
   "file_extension": ".py",
   "mimetype": "text/x-python",
   "name": "python",
   "nbconvert_exporter": "python",
   "pygments_lexer": "ipython3",
   "version": "3.7.3"
  }
 },
 "nbformat": 4,
 "nbformat_minor": 2
}
