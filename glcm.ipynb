{
 "cells": [
  {
   "cell_type": "code",
   "execution_count": 20,
   "metadata": {},
   "outputs": [],
   "source": [
    "import math\n",
    "import matplotlib.pyplot as plt\n",
    "import matplotlib.image as mpimg\n",
    "import numpy as nm\n",
    "\n",
    "class Glcm:\n",
    "    def __init__(self):\n",
    "        self.result =[] \n",
    "        \n",
    "    def forOder(self,a, b):\n",
    "        size = 0\n",
    "        for i in a[0]:\n",
    "            size=size+1\n",
    "        for i in range(len(a)):\n",
    "                for j in range(len(a[i])-1):\n",
    "                    p=a[i][j]\n",
    "                    q=a[i][j+1]\n",
    "                    b[p][q]=b[p][q]+1\n",
    "\n",
    "        matriksIterasi1=list(map(list,zip(*b)))\n",
    "        for i in range(len(b)):\n",
    "                for j in range(len(b)):\n",
    "                    b[i][j]=b[i][j]+matriksIterasi1[i][j]\n",
    "        print(\"Grayscale Dependenc Mariks\")\n",
    "        count=0\n",
    "        for i in b:\n",
    "            for j in i:\n",
    "                count=count+j\n",
    "#         print(b)\n",
    "        return self.normalisasi(b, count)\n",
    "\n",
    "    def forOder45(self,a, b):\n",
    "        size = 0\n",
    "        for i in a[0]:\n",
    "            size=size+1\n",
    "        for i in range(len(a)-1):\n",
    "                for j in range(size-1):\n",
    "                    p=a[i][j+1]\n",
    "                    q=a[i+1][j]\n",
    "                    \n",
    "                    b[p][q]=b[p][q]+1\n",
    "        matriksIterasi1=list(map(list,zip(*b)))\n",
    "        for i in range(len(b)):\n",
    "                for j in range(len(b)):\n",
    "                    b[i][j]=b[i][j]+matriksIterasi1[i][j]\n",
    "        print(\"Grayscale Dependenc Mariks 45 derajat\")\n",
    "        count=0\n",
    "        for i in b:\n",
    "            for j in i:\n",
    "                count=count+j\n",
    "        print()\n",
    "        return self.normalisasi(b, count)\n",
    "    \n",
    "    def forOder90(self,a, b):\n",
    "        size = 0\n",
    "        for i in a[0]:\n",
    "            size=size+1\n",
    "        for i in range(len(a)-1):\n",
    "                for j in range(size):\n",
    "                    p=a[i][j]\n",
    "                    q=a[i+1][j]\n",
    "                    b[p][q]=b[p][q]+1          \n",
    "        matriksIterasi1=list(map(list,zip(*b)))\n",
    "        for i in range(4):\n",
    "                for j in range(4):\n",
    "                    b[i][j]=b[i][j]+matriksIterasi1[i][j]\n",
    "        print(\"Grayscale Dependenc Mariks 90 derajat\")\n",
    "        count=0\n",
    "        for i in b:\n",
    "            for j in i:\n",
    "                count=count+j\n",
    "        print()\n",
    "        return self.normalisasi(b, count)\n",
    "\n",
    "        # 135 derajat\n",
    "    def forOder135(self,a, b):\n",
    "        size = 0\n",
    "        for i in a[0]:\n",
    "            size=size+1\n",
    "        for i in range(len(a)-1):\n",
    "                for j in range(size-1):\n",
    "                    p=a[i][j]\n",
    "                    q=a[i+1][j+1]\n",
    "                    b[p][q]=b[p][q]+1\n",
    "\n",
    "        matriksIterasi1=list(map(list,zip(*b)))\n",
    "        for i in range(len(b)):\n",
    "                for j in range(len(b)):\n",
    "                    b[i][j]=b[i][j]+matriksIterasi1[i][j]\n",
    "        print(\"Grayscale Dependenc Mariks 135 derajat\")\n",
    "        count=0\n",
    "        for i in b:\n",
    "            for j in i:\n",
    "                count=count+j\n",
    "        print()\n",
    "        return self.normalisasi(b, count)\n",
    "\n",
    "    def normalisasi(self,data, counter):\n",
    "        print(\"Matriks coocurence\")\n",
    "        for i in range(len(data)):\n",
    "                for j in range(len(data)):\n",
    "                     data[i][j]=data[i][j]/counter\n",
    "        cs = plt.imshow(data)\n",
    "        plt.show()\n",
    "        return data\n",
    "\n",
    "    def asmMethod(self, data):\n",
    "        sume =0\n",
    "        for i in range(len(data)-1):\n",
    "            for j in range(len(data[i])-1):\n",
    "                sume =sume + data[i][j]*data[i][j]\n",
    "#                 sume = sume*sume\n",
    "        print(\"ASM :\")\n",
    "        print(sume)\n",
    "        return sume\n",
    "#         self.contrasMethod(data)\n",
    "    \n",
    "    \n",
    "    def contrasMethod(self, data):\n",
    "        result = 0\n",
    "        n = 0\n",
    "        for i in range(len(data)-1):\n",
    "            for j in range(len(data[i])-1):\n",
    "                result = result+data[i][j]*((i-j)*(i-j))\n",
    "#         for n in range(len(data)-1):\n",
    "#             for i in range(len(data)-1):\n",
    "#                 for j in range(len(data[i])-1):\n",
    "#                     if abs(i-j)==n:\n",
    "#                         \n",
    "\n",
    "                \n",
    "        print(\"Contras :\")\n",
    "        print(result)\n",
    "        return result\n",
    "    \n",
    "    def idmMethod(self, data):\n",
    "        result = 0\n",
    "        for i in range(len(data)-1):\n",
    "            for j in range(len(data[i])-1):\n",
    "                kiri = 1/(1+((i-j)**2))\n",
    "                tot = kiri*data[i][j]\n",
    "                result = result + tot\n",
    "        print(\"Invert Different Moment : \")\n",
    "        print(result)\n",
    "        return result\n",
    "        \n",
    "#     def ent2Method(this, data):\n",
    "#         result = 0\n",
    "    def ent2Method(self, data):\n",
    "        result = 0;\n",
    "        for i in range(len(data)-1):\n",
    "            for j in range(len(data[i])-1):\n",
    "#                 if(data[i][j]>0.0):\n",
    "                value = data[i][j]*math.log2(data[i][j])\n",
    "                result = result + value\n",
    "        print(\"Entropy : \")\n",
    "        print(result)\n",
    "        return result\n",
    "        \n",
    "    def corMethod(this, data):\n",
    "        data = nm.array(data)\n",
    "        result = 0\n",
    "        for i in range(len(data)-1):\n",
    "            for j in range(len(data)-1):\n",
    "                if data[i][j] > 0.0 :\n",
    "                    meanX = this.meanColumnMatrix(data[:,j])\n",
    "                    meanY = this.meanRowMatrix(data[:,j],data[i,:])\n",
    "                    stdCol = this.stdColumn(data[:,j], meanX)\n",
    "                    stdRow = this.stdRow(data[i,:], meanY)\n",
    "                    result = result + (((i*j*data[i][j]) - (meanX*meanY))/(stdCol*stdRow))\n",
    "        print(\"Corelation : \")\n",
    "        print(result)\n",
    "        return result\n",
    "        \n",
    "    def varMethod(this, data):\n",
    "        data = nm.array(data)\n",
    "        result = 0\n",
    "        for i in range(len(data)-1):\n",
    "            for j in range(len(data)-1):\n",
    "                meanX = this.meanColumnMatrix(data[:,j])\n",
    "                meanY = this.meanRowMatrix(data[:,j],data[i,:])\n",
    "                result = result + ((i-meanX)*(j*meanY)*data[i,j])\n",
    "        print(\"Variance : \")\n",
    "        print(result)\n",
    "        return result\n",
    "                \n",
    "    def meanColumnMatrix(this, kolom):\n",
    "        return sum(kolom)/len(kolom)\n",
    "        \n",
    "    def meanRowMatrix(this, kolom, baris):\n",
    "        return sum(baris)/len(kolom)\n",
    "    \n",
    "    def stdColumn(this, kolom, mean):\n",
    "        sum = 0\n",
    "        total = len(kolom)-1\n",
    "        for x in range(total):\n",
    "            atas = (kolom[x]-mean)**2\n",
    "            sum = sum + (atas/total)\n",
    "        return math.sqrt(sum)\n",
    "    \n",
    "    def stdRow(this, baris, mean):\n",
    "        sum = 0\n",
    "        total = len(baris)-1\n",
    "        for x in range(total):\n",
    "            atas = (baris[x]-mean)**2\n",
    "            sum = sum + (atas/total)\n",
    "        return math.sqrt(sum) "
   ]
  },
  {
   "cell_type": "code",
   "execution_count": 15,
   "metadata": {},
   "outputs": [],
   "source": [
    "from PIL import Image\n",
    "import os \n",
    "from io import BytesIO\n",
    "import csv\n",
    "import numpy as nm\n",
    "\n",
    "class Data:\n",
    "    def __init__(self):\n",
    "        imageObject  = Image.open(\"2_100.jpg\")\n",
    "        cropped     = imageObject.crop((20,20,80,80))\n",
    "        # cropped.show()\n",
    "        # cropped.shape()\n",
    "        cropped.show()\n",
    "        self.citra = nm.array(cropped)\n",
    "        self.citra = self.citra.transpose(2,0,1).reshape(3,-1)\n",
    "        size = 0\n",
    "        for i in self.citra:\n",
    "            if max(i)>size:\n",
    "                size=max(i)\n",
    "        self.matriksIterasi = [[0 for i in range(size+1)] for j in range(size+1)]\n",
    "\n",
    "    def insertoCsv(self,message, asm, contras, invert, entropy, cor, var):\n",
    "        row = [message, asm, contras, invert, entropy, cor, var]\n",
    "        with open('glcm1.csv', 'a') as csvFile:\n",
    "            writer = csv.writer(csvFile)\n",
    "            writer.writerow(row)\n",
    "        print(\"succes\")\n",
    "        csvFile.close()"
   ]
  },
  {
   "cell_type": "code",
   "execution_count": 35,
   "metadata": {},
   "outputs": [],
   "source": [
    "# row =[\"Matriks\", \"asm\", \"cont\", \"idm\", \"e\"]\n",
    "# with open('glcm1.csv', 'a') as csvFile:\n",
    "#     writer = csv.writer(csvFile)\n",
    "#     writer.writerow(row)\n",
    "#     print(\"succes\")\n",
    "# csvFile.close()"
   ]
  },
  {
   "cell_type": "code",
   "execution_count": 41,
   "metadata": {},
   "outputs": [],
   "source": [
    "data = Data()"
   ]
  },
  {
   "cell_type": "code",
   "execution_count": 21,
   "metadata": {},
   "outputs": [
    {
     "name": "stdout",
     "output_type": "stream",
     "text": [
      "Grayscale Dependenc Mariks\n",
      "Matriks coocurence\n"
     ]
    },
    {
     "data": {
      "image/png": "[encoded data removed]",
      "text/plain": [
       "<Figure size 432x288 with 1 Axes>"
      ]
     },
     "metadata": {
      "needs_background": "light"
     },
     "output_type": "display_data"
    },
    {
     "name": "stdout",
     "output_type": "stream",
     "text": [
      "ASM :\n",
      "0.0005170052922658714\n",
      "Invert Different Moment : \n",
      "0.29157595085113835\n",
      "Contras :\n",
      "212.511160507547\n"
     ]
    },
    {
     "ename": "ValueError",
     "evalue": "math domain error",
     "output_type": "error",
     "traceback": [
      "\u001b[0;31m---------------------------------------------------------------------------\u001b[0m",
      "\u001b[0;31mValueError\u001b[0m                                Traceback (most recent call last)",
      "\u001b[0;32m<ipython-input-21-ab3669bc5f88>\u001b[0m in \u001b[0;36m<module>\u001b[0;34m\u001b[0m\n\u001b[1;32m      6\u001b[0m \u001b[0midm\u001b[0m \u001b[0;34m=\u001b[0m \u001b[0mglcm\u001b[0m\u001b[0;34m.\u001b[0m\u001b[0midmMethod\u001b[0m\u001b[0;34m(\u001b[0m\u001b[0mnor0\u001b[0m\u001b[0;34m)\u001b[0m\u001b[0;34m\u001b[0m\u001b[0;34m\u001b[0m\u001b[0m\n\u001b[1;32m      7\u001b[0m \u001b[0mcont\u001b[0m \u001b[0;34m=\u001b[0m \u001b[0mglcm\u001b[0m\u001b[0;34m.\u001b[0m\u001b[0mcontrasMethod\u001b[0m\u001b[0;34m(\u001b[0m\u001b[0mnor0\u001b[0m\u001b[0;34m)\u001b[0m\u001b[0;34m\u001b[0m\u001b[0;34m\u001b[0m\u001b[0m\n\u001b[0;32m----> 8\u001b[0;31m \u001b[0ment\u001b[0m \u001b[0;34m=\u001b[0m \u001b[0mglcm\u001b[0m\u001b[0;34m.\u001b[0m\u001b[0ment2Method\u001b[0m\u001b[0;34m(\u001b[0m\u001b[0mnor0\u001b[0m\u001b[0;34m)\u001b[0m\u001b[0;34m\u001b[0m\u001b[0;34m\u001b[0m\u001b[0m\n\u001b[0m\u001b[1;32m      9\u001b[0m \u001b[0mcon\u001b[0m \u001b[0;34m=\u001b[0m \u001b[0mglcm\u001b[0m\u001b[0;34m.\u001b[0m\u001b[0mcorMethod\u001b[0m\u001b[0;34m(\u001b[0m\u001b[0mnor0\u001b[0m\u001b[0;34m)\u001b[0m\u001b[0;34m\u001b[0m\u001b[0;34m\u001b[0m\u001b[0m\n\u001b[1;32m     10\u001b[0m \u001b[0mvar\u001b[0m \u001b[0;34m=\u001b[0m \u001b[0mglcm\u001b[0m\u001b[0;34m.\u001b[0m\u001b[0mvarMethod\u001b[0m\u001b[0;34m(\u001b[0m\u001b[0mnor0\u001b[0m\u001b[0;34m)\u001b[0m\u001b[0;34m\u001b[0m\u001b[0;34m\u001b[0m\u001b[0m\n",
      "\u001b[0;32m<ipython-input-20-b084bb083ee7>\u001b[0m in \u001b[0;36ment2Method\u001b[0;34m(self, data)\u001b[0m\n\u001b[1;32m    152\u001b[0m             \u001b[0;32mfor\u001b[0m \u001b[0mj\u001b[0m \u001b[0;32min\u001b[0m \u001b[0mrange\u001b[0m\u001b[0;34m(\u001b[0m\u001b[0mlen\u001b[0m\u001b[0;34m(\u001b[0m\u001b[0mdata\u001b[0m\u001b[0;34m[\u001b[0m\u001b[0mi\u001b[0m\u001b[0;34m]\u001b[0m\u001b[0;34m)\u001b[0m\u001b[0;34m-\u001b[0m\u001b[0;36m1\u001b[0m\u001b[0;34m)\u001b[0m\u001b[0;34m:\u001b[0m\u001b[0;34m\u001b[0m\u001b[0;34m\u001b[0m\u001b[0m\n\u001b[1;32m    153\u001b[0m \u001b[0;31m#                 if(data[i][j]>0.0):\u001b[0m\u001b[0;34m\u001b[0m\u001b[0;34m\u001b[0m\u001b[0;34m\u001b[0m\u001b[0m\n\u001b[0;32m--> 154\u001b[0;31m                 \u001b[0mvalue\u001b[0m \u001b[0;34m=\u001b[0m \u001b[0mdata\u001b[0m\u001b[0;34m[\u001b[0m\u001b[0mi\u001b[0m\u001b[0;34m]\u001b[0m\u001b[0;34m[\u001b[0m\u001b[0mj\u001b[0m\u001b[0;34m]\u001b[0m\u001b[0;34m*\u001b[0m\u001b[0mmath\u001b[0m\u001b[0;34m.\u001b[0m\u001b[0mlog2\u001b[0m\u001b[0;34m(\u001b[0m\u001b[0mdata\u001b[0m\u001b[0;34m[\u001b[0m\u001b[0mi\u001b[0m\u001b[0;34m]\u001b[0m\u001b[0;34m[\u001b[0m\u001b[0mj\u001b[0m\u001b[0;34m]\u001b[0m\u001b[0;34m)\u001b[0m\u001b[0;34m\u001b[0m\u001b[0;34m\u001b[0m\u001b[0m\n\u001b[0m\u001b[1;32m    155\u001b[0m                 \u001b[0mresult\u001b[0m \u001b[0;34m=\u001b[0m \u001b[0mresult\u001b[0m \u001b[0;34m+\u001b[0m \u001b[0mvalue\u001b[0m\u001b[0;34m\u001b[0m\u001b[0;34m\u001b[0m\u001b[0m\n\u001b[1;32m    156\u001b[0m         \u001b[0mprint\u001b[0m\u001b[0;34m(\u001b[0m\u001b[0;34m\"Entropy : \"\u001b[0m\u001b[0;34m)\u001b[0m\u001b[0;34m\u001b[0m\u001b[0;34m\u001b[0m\u001b[0m\n",
      "\u001b[0;31mValueError\u001b[0m: math domain error"
     ]
    }
   ],
   "source": [
    "# Matriks iterasi 0 derajat\n",
    "glcm = Glcm()\n",
    "data = Data()\n",
    "nor0 = glcm.forOder(data.citra, data.matriksIterasi)\n",
    "asm = glcm.asmMethod(nor0)\n",
    "idm = glcm.idmMethod(nor0)\n",
    "cont = glcm.contrasMethod(nor0)\n",
    "ent = glcm.ent2Method(nor0)\n",
    "con = glcm.corMethod(nor0)\n",
    "var = glcm.varMethod(nor0)\n",
    "# # print(asm)\n",
    "data.insertoCsv(\"0 derajat\", asm, cont, idm, ent, con, var)"
   ]
  },
  {
   "cell_type": "code",
   "execution_count": 4,
   "metadata": {},
   "outputs": [
    {
     "name": "stdout",
     "output_type": "stream",
     "text": [
      "Grayscale Dependenc Mariks 45 derajat\n",
      "\n",
      "Matriks coocurence\n"
     ]
    },
    {
     "data": {
      "image/png": "[encoded data removed]",
      "text/plain": [
       "<Figure size 432x288 with 1 Axes>"
      ]
     },
     "metadata": {
      "needs_background": "light"
     },
     "output_type": "display_data"
    },
    {
     "name": "stdout",
     "output_type": "stream",
     "text": [
      "ASM :\n",
      "0.00029235918691608435\n",
      "Invert Different Moment : \n",
      "0.14563933713777105\n",
      "Contras :\n",
      "0.9998610660873692\n",
      "Entropy : \n",
      "-12.108166382374913\n",
      "Corelation : \n",
      "5717704585806.341\n",
      "Variance : \n",
      "0.4614365579261709\n",
      "succes\n"
     ]
    }
   ],
   "source": [
    "nor45 = glcm.forOder45(data.citra, data.matriksIterasi)\n",
    "asm = glcm.asmMethod(nor45)\n",
    "idm = glcm.idmMethod(nor45)\n",
    "cont = glcm.contrasMethod(nor45)\n",
    "ent = glcm.ent2Method(nor45)\n",
    "con = glcm.corMethod(nor45)\n",
    "var = glcm.varMethod(nor45)\n",
    "data.insertoCsv(\"45 derajat\", asm, cont, idm, ent, con, var)"
   ]
  },
  {
   "cell_type": "code",
   "execution_count": 5,
   "metadata": {},
   "outputs": [
    {
     "name": "stdout",
     "output_type": "stream",
     "text": [
      "Grayscale Dependenc Mariks 90 derajat\n",
      "\n",
      "Matriks coocurence\n"
     ]
    },
    {
     "data": {
      "image/png": "[encoded data removed]",
      "text/plain": [
       "<Figure size 432x288 with 1 Axes>"
      ]
     },
     "metadata": {
      "needs_background": "light"
     },
     "output_type": "display_data"
    },
    {
     "name": "stdout",
     "output_type": "stream",
     "text": [
      "ASM :\n",
      "0.000985760260998645\n",
      "Invert Different Moment : \n",
      "0.06729677994847953\n",
      "Contras :\n",
      "0.9998611111047845\n",
      "Entropy : \n",
      "-10.487141712202403\n",
      "Corelation : \n",
      "1773187384626.8958\n",
      "Variance : \n",
      "0.6032682110019735\n",
      "succes\n"
     ]
    }
   ],
   "source": [
    "nor90 = glcm.forOder90(data.citra, data.matriksIterasi)\n",
    "asm = glcm.asmMethod(nor90)\n",
    "idm = glcm.idmMethod(nor90)\n",
    "cont = glcm.contrasMethod(nor90)\n",
    "ent = glcm.ent2Method(nor90)\n",
    "con = glcm.corMethod(nor90)\n",
    "var = glcm.varMethod(nor90)\n",
    "data.insertoCsv(\"90 derajat\", asm, cont, idm, ent, con, var)"
   ]
  },
  {
   "cell_type": "code",
   "execution_count": 6,
   "metadata": {},
   "outputs": [
    {
     "name": "stdout",
     "output_type": "stream",
     "text": [
      "Grayscale Dependenc Mariks 135 derajat\n",
      "\n",
      "Matriks coocurence\n"
     ]
    },
    {
     "data": {
      "image/png": "[encoded data removed]",
      "text/plain": [
       "<Figure size 432x288 with 1 Axes>"
      ]
     },
     "metadata": {
      "needs_background": "light"
     },
     "output_type": "display_data"
    },
    {
     "name": "stdout",
     "output_type": "stream",
     "text": [
      "ASM :\n",
      "0.0002500290990302554\n",
      "Invert Different Moment : \n",
      "0.03212407325615976\n",
      "Contras :\n",
      "0.9998610725254677\n",
      "Entropy : \n",
      "-12.262959166968962\n",
      "Corelation : \n",
      "6155436721876.435\n",
      "Variance : \n",
      "0.4606089730551641\n",
      "succes\n"
     ]
    }
   ],
   "source": [
    "nor135 = glcm.forOder135(data.citra, data.matriksIterasi)\n",
    "asm = glcm.asmMethod(nor135)\n",
    "idm = glcm.idmMethod(nor135)\n",
    "cont = glcm.contrasMethod(nor135)\n",
    "ent = glcm.ent2Method(nor135)\n",
    "con = glcm.corMethod(nor135)\n",
    "var = glcm.varMethod(nor135)\n",
    "data.insertoCsv(\"135 derajat\", asm, cont, idm, ent, con, var)\n"
   ]
  },
  {
   "cell_type": "code",
   "execution_count": 7,
   "metadata": {},
   "outputs": [
    {
     "name": "stdout",
     "output_type": "stream",
     "text": [
      "\n",
      "Normalisasi :\n",
      "ASM :\n",
      "0.0026409323585070417\n",
      "Invert Different Moment : \n",
      "0.10440323808251895\n",
      "Contras :\n",
      "3.2495484857078316\n",
      "Entropy : \n",
      "-34.32895598152605\n",
      "Corelation : \n",
      "1893988740577.151\n",
      "Variance : \n",
      "4.865113001333595\n",
      "succes\n"
     ]
    }
   ],
   "source": [
    "# matriks iterasi rata-rata\n",
    "for i in range(len(nor0)-1):\n",
    "    for j in range(len(nor0[i])-1):\n",
    "        nor0[i][j]=nor0[i][j]+nor45[i][j]+nor90[i][j]+nor135[i][j]/4\n",
    "print()\n",
    "print(\"Normalisasi :\")\n",
    "asm = glcm.asmMethod(nor0)\n",
    "idm = glcm.idmMethod(nor0)\n",
    "cont = glcm.contrasMethod(nor0)\n",
    "ent = glcm.ent2Method(nor0)\n",
    "con = glcm.corMethod(nor0)\n",
    "var = glcm.varMethod(nor0)\n",
    "data.insertoCsv(\"Mean\", asm, cont, idm, ent, con, var)"
   ]
  },
  {
   "cell_type": "code",
   "execution_count": 16,
   "metadata": {},
   "outputs": [
    {
     "data": {
      "text/plain": [
       "243"
      ]
     },
     "execution_count": 16,
     "metadata": {},
     "output_type": "execute_result"
    }
   ],
   "source": [
    "from PIL import Image\n",
    "import numpy as nm\n",
    "imageObject  = Image.open(\"0_100.jpg\")\n",
    "cropped     = imageObject.crop((20,20,80,80))\n",
    "# cropped.show()\n",
    "# cropped.shape()\n",
    "citra = nm.array(cropped)\n",
    "citra = citra.transpose(2,0,1).reshape(3,-1)\n",
    "size = 0\n",
    "for i in citra:\n",
    "    if max(i)>size:\n",
    "        size=max(i)\n",
    "size"
   ]
  },
  {
   "cell_type": "code",
   "execution_count": null,
   "metadata": {},
   "outputs": [],
   "source": []
  },
  {
   "cell_type": "code",
   "execution_count": null,
   "metadata": {},
   "outputs": [],
   "source": []
  }
 ],
 "metadata": {
  "kernelspec": {
   "display_name": "Python 3",
   "language": "python",
   "name": "python3"
  },
  "language_info": {
   "codemirror_mode": {
    "name": "ipython",
    "version": 3
   },
   "file_extension": ".py",
   "mimetype": "text/x-python",
   "name": "python",
   "nbconvert_exporter": "python",
   "pygments_lexer": "ipython3",
   "version": "3.7.3"
  }
 },
 "nbformat": 4,
 "nbformat_minor": 2
}
