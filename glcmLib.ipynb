{
 "cells": [
  {
   "cell_type": "code",
   "execution_count": 2,
   "metadata": {},
   "outputs": [],
   "source": [
    "import cv2\n",
    "from PIL import Image\n",
    "import numpy as np\n",
    "import matplotlib.pyplot as plt\n",
    "from skimage.feature import greycomatrix, greycoprops"
   ]
  },
  {
   "cell_type": "code",
   "execution_count": 9,
   "metadata": {},
   "outputs": [
    {
     "data": {
      "text/plain": [
       "(100, 100, 3)"
      ]
     },
     "execution_count": 9,
     "metadata": {},
     "output_type": "execute_result"
    }
   ],
   "source": [
    "im = cv2.imread('0_100.jpg')\n",
    "imgM = cv2.imread('0_100.jpg')\n",
    "\n",
    "# im = im[:,:,0]\n",
    "# imgM = imgM[:,:,0]\n",
    "# imgv = \n",
    "im.shape"
   ]
  },
  {
   "cell_type": "code",
   "execution_count": 5,
   "metadata": {},
   "outputs": [],
   "source": [
    "imageObject  = Image.open(\"1_100.jpg\")\n",
    "cropped     = imageObject.crop((15,15,85,85))\n",
    "        # cropped.show()\n",
    "        # cropped.shape()\n",
    "# cropped.show()\n",
    "citra = np.array(cropped)\n",
    "citra = citra.transpose(2,0,1).reshape(3,-1)"
   ]
  },
  {
   "cell_type": "code",
   "execution_count": 6,
   "metadata": {},
   "outputs": [
    {
     "name": "stdout",
     "output_type": "stream",
     "text": [
      "asm\n",
      "[[0.00067149]]\n",
      "Contras\n",
      "[[161.68551405]]\n",
      "IDM (Homogenity)\n",
      "[[0.34559987]]\n",
      "Corelation\n",
      "[[0.97749977]]\n"
     ]
    }
   ],
   "source": [
    "\n",
    "glcm = greycomatrix(citra, [1], [0],  symmetric = True, normed = True )\n",
    "contrast = greycoprops(glcm, 'contrast')\n",
    "dissimilarityraster = greycoprops(glcm, 'dissimilarity')\n",
    "homogeneityraster = greycoprops(glcm, 'homogeneity')\n",
    "energyraster = greycoprops(glcm, 'energy')\n",
    "correlationraster = greycoprops(glcm, 'correlation')\n",
    "ASMraster = greycoprops(glcm, 'ASM')\n",
    "# sumsquare = greycoprops(glcm, 'SumSquare')\n",
    "\n",
    "# print(dissimilarityraster)\n",
    "print(\"asm\")\n",
    "print(ASMraster)\n",
    "print(\"Contras\")\n",
    "print(contrast)\n",
    "print(\"IDM (Homogenity)\")\n",
    "print(homogeneityraster)\n",
    "print(\"Corelation\")\n",
    "print(correlationraster)\n",
    "# getSumEntropyFeatureValue(citra)"
   ]
  },
  {
   "cell_type": "code",
   "execution_count": 10,
   "metadata": {},
   "outputs": [],
   "source": [
    "from sklearn.metrics.cluster import entropy"
   ]
  },
  {
   "cell_type": "code",
   "execution_count": 15,
   "metadata": {},
   "outputs": [],
   "source": []
  },
  {
   "cell_type": "code",
   "execution_count": 11,
   "metadata": {},
   "outputs": [
    {
     "data": {
      "text/plain": [
       "5.357819061326184"
      ]
     },
     "execution_count": 11,
     "metadata": {},
     "output_type": "execute_result"
    }
   ],
   "source": [
    "entropy(citra)"
   ]
  },
  {
   "cell_type": "code",
   "execution_count": null,
   "metadata": {},
   "outputs": [],
   "source": []
  }
 ],
 "metadata": {
  "kernelspec": {
   "display_name": "Python 3",
   "language": "python",
   "name": "python3"
  },
  "language_info": {
   "codemirror_mode": {
    "name": "ipython",
    "version": 3
   },
   "file_extension": ".py",
   "mimetype": "text/x-python",
   "name": "python",
   "nbconvert_exporter": "python",
   "pygments_lexer": "ipython3",
   "version": "3.7.3"
  }
 },
 "nbformat": 4,
 "nbformat_minor": 2
}
