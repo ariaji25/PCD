{
 "cells": [
  {
   "cell_type": "code",
   "execution_count": 15,
   "metadata": {},
   "outputs": [],
   "source": [
    "import cv2\n",
    "from PIL import Image\n",
    "import numpy as np\n",
    "import matplotlib.pyplot as plt\n",
    "from skimage.feature import greycomatrix, greycoprops"
   ]
  },
  {
   "cell_type": "code",
   "execution_count": 5,
   "metadata": {},
   "outputs": [
    {
     "data": {
      "text/plain": [
       "array([[247, 247, 249, ..., 255, 255, 255],\n",
       "       [251, 251, 251, ..., 255, 255, 255],\n",
       "       [255, 255, 255, ..., 255, 255, 255],\n",
       "       ...,\n",
       "       [255, 255, 255, ..., 255, 255, 255],\n",
       "       [255, 255, 255, ..., 255, 255, 255],\n",
       "       [255, 255, 255, ..., 255, 255, 255]], dtype=uint8)"
      ]
     },
     "execution_count": 5,
     "metadata": {},
     "output_type": "execute_result"
    }
   ],
   "source": [
    "im = cv2.imread('0_100.jpg')\n",
    "imgM = cv2.imread('1_100.jpg')\n",
    "\n",
    "im = im[:,:,0]\n",
    "imgM = imgM[:,:,0]\n",
    "imgv = \n"
   ]
  },
  {
   "cell_type": "code",
   "execution_count": 10,
   "metadata": {},
   "outputs": [
    {
     "data": {
      "text/plain": [
       "array([[202, 204, 204, ...,  38,  36,  33],\n",
       "       [195, 197, 197, ...,  33,  31,  27],\n",
       "       [107, 107, 107, ...,  13,  12,  11]], dtype=uint8)"
      ]
     },
     "execution_count": 10,
     "metadata": {},
     "output_type": "execute_result"
    }
   ],
   "source": [
    "imageObject  = Image.open(\"2_100.jpg\")\n",
    "cropped     = imageObject.crop((20,20,80,80))\n",
    "        # cropped.show()\n",
    "        # cropped.shape()\n",
    "# cropped.show()\n",
    "citra = np.array(cropped)\n",
    "citra = citra.transpose(2,0,1).reshape(3,-1)\n",
    "citra"
   ]
  },
  {
   "cell_type": "code",
   "execution_count": 18,
   "metadata": {},
   "outputs": [
    {
     "name": "stdout",
     "output_type": "stream",
     "text": [
      "[[0.00051701]]\n",
      "[[212.51208669]]\n",
      "[[0.29163152]]\n",
      "[[0.96772762]]\n"
     ]
    }
   ],
   "source": [
    "\n",
    "glcm = greycomatrix(citra, [1], [0],  symmetric = True, normed = True )\n",
    "contrast = greycoprops(glcm, 'contrast')\n",
    "dissimilarityraster = greycoprops(glcm, 'dissimilarity')\n",
    "homogeneityraster = greycoprops(glcm, 'homogeneity')\n",
    "energyraster = greycoprops(glcm, 'energy')\n",
    "correlationraster = greycoprops(glcm, 'correlation')\n",
    "ASMraster = greycoprops(glcm, 'ASM')\n",
    "\n",
    "print(ASMraster)\n",
    "print(contrast)\n",
    "print(homogeneityraster)\n",
    "print(correlationraster)"
   ]
  },
  {
   "cell_type": "code",
   "execution_count": 20,
   "metadata": {},
   "outputs": [],
   "source": [
    "from sklearn.metrics.cluster import entropy"
   ]
  },
  {
   "cell_type": "code",
   "execution_count": 21,
   "metadata": {},
   "outputs": [
    {
     "data": {
      "text/plain": [
       "5.357819061326184"
      ]
     },
     "execution_count": 21,
     "metadata": {},
     "output_type": "execute_result"
    }
   ],
   "source": [
    "entropy(citra)"
   ]
  },
  {
   "cell_type": "code",
   "execution_count": null,
   "metadata": {},
   "outputs": [],
   "source": []
  }
 ],
 "metadata": {
  "kernelspec": {
   "display_name": "Python 3",
   "language": "python",
   "name": "python3"
  },
  "language_info": {
   "codemirror_mode": {
    "name": "ipython",
    "version": 3
   },
   "file_extension": ".py",
   "mimetype": "text/x-python",
   "name": "python",
   "nbconvert_exporter": "python",
   "pygments_lexer": "ipython3",
   "version": "3.7.3"
  }
 },
 "nbformat": 4,
 "nbformat_minor": 2
}
