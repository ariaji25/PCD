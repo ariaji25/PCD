{
 "cells": [
  {
   "cell_type": "code",
   "execution_count": 2,
   "metadata": {},
   "outputs": [],
   "source": [
    "import math\n",
    "import matplotlib.pyplot as plt\n",
    "import matplotlib.image as mpimg\n",
    "\n",
    "class Glcm:\n",
    "    def __init__(self):\n",
    "        self.result =[] \n",
    "        \n",
    "    def forOder(self,a, b):\n",
    "        print(len(a))\n",
    "        size = 0\n",
    "        for i in a[0]:\n",
    "            size=size+1\n",
    "        for i in range(len(a)):\n",
    "                for j in range(size-1):\n",
    "                    p=a[i][j]\n",
    "                    q=a[i][j+1]\n",
    "                    b[p][q]=b[p][q]+1\n",
    "\n",
    "        matriksIterasi1=list(map(list,zip(*b)))\n",
    "        for i in range(len(b)):\n",
    "                for j in range(len(b)):\n",
    "                    b[i][j]=b[i][j]+matriksIterasi1[i][j]\n",
    "        print(\"Grayscale Dependenc Mariks\")\n",
    "        count=0\n",
    "        for i in b:\n",
    "            for j in i:\n",
    "                count=count+j\n",
    "        print()\n",
    "        return self.normalisasi(b, count)\n",
    "\n",
    "    # 45 derajat\n",
    "    def forOder45(self,a, b):\n",
    "        size = 0\n",
    "        for i in a[0]:\n",
    "            size=size+1\n",
    "        for i in range(len(a)-1):\n",
    "                for j in range(size-1):\n",
    "                    p=a[i][j+1]\n",
    "                    q=a[i+1][j]\n",
    "                    \n",
    "                    b[p][q]=b[p][q]+1\n",
    "        matriksIterasi1=list(map(list,zip(*b)))\n",
    "        for i in range(len(b)):\n",
    "                for j in range(len(b)):\n",
    "                    b[i][j]=b[i][j]+matriksIterasi1[i][j]\n",
    "        print(\"Grayscale Dependenc Mariks 45 derajat\")\n",
    "        count=0\n",
    "        for i in b:\n",
    "            for j in i:\n",
    "                count=count+j\n",
    "        print()\n",
    "        return self.normalisasi(b, count)\n",
    "\n",
    "    # 90 derajat\n",
    "    def forOder90(self,a, b):\n",
    "        size = 0\n",
    "        for i in a[0]:\n",
    "            size=size+1\n",
    "        for i in range(len(a)-1):\n",
    "                for j in range(size):\n",
    "                    p=a[i][j]\n",
    "                    q=a[i+1][j]\n",
    "                    b[p][q]=b[p][q]+1          \n",
    "        matriksIterasi1=list(map(list,zip(*b)))\n",
    "        for i in range(4):\n",
    "                for j in range(4):\n",
    "                    b[i][j]=b[i][j]+matriksIterasi1[i][j]\n",
    "        print(\"Grayscale Dependenc Mariks 90 derajat\")\n",
    "        count=0\n",
    "        for i in b:\n",
    "            for j in i:\n",
    "                count=count+j\n",
    "        print()\n",
    "        return self.normalisasi(b, count)\n",
    "\n",
    "        # 135 derajat\n",
    "    def forOder135(self,a, b):\n",
    "        size = 0\n",
    "        for i in a[0]:\n",
    "            size=size+1\n",
    "        for i in range(len(a)-1):\n",
    "                for j in range(size-1):\n",
    "                    p=a[i][j]\n",
    "                    q=a[i+1][j+1]\n",
    "                    b[p][q]=b[p][q]+1\n",
    "\n",
    "        matriksIterasi1=list(map(list,zip(*b)))\n",
    "        for i in range(len(b)):\n",
    "                for j in range(len(b)):\n",
    "                    b[i][j]=b[i][j]+matriksIterasi1[i][j]\n",
    "        print(\"Grayscale Dependenc Mariks 135 derajat\")\n",
    "        count=0\n",
    "        for i in b:\n",
    "            for j in i:\n",
    "                count=count+j\n",
    "        print()\n",
    "        return self.normalisasi(b, count)\n",
    "\n",
    "    def normalisasi(self,data, counter):\n",
    "        print(\"Matriks coocurence\")\n",
    "        imgplt = plt.imshow(data)\n",
    "        plt.show()\n",
    "        for i in range(len(data)):\n",
    "                for j in range(len(data)):\n",
    "                     data[i][j]=data[i][j]/counter\n",
    "#         for i in data:\n",
    "#                 print(i)\n",
    "#         self.asmMethod(data)\n",
    "        return data\n",
    "\n",
    "    def asmMethod(self, data):\n",
    "        sume =0\n",
    "        for i in range(len(data)-1):\n",
    "            for j in range(len(data[i])-1):\n",
    "                sume =sume + data[i][j]*data[i][j]\n",
    "#                 sume = sume*sume\n",
    "        print(\"ASM :\")\n",
    "        print(sume)\n",
    "#         self.contrasMethod(data)\n",
    "    \n",
    "    \n",
    "    def contrasMethod(self, data):\n",
    "        result = 0\n",
    "        n = 0\n",
    "        for n in range(len(data)-1):\n",
    "            for i in range(len(data)-1):\n",
    "                for j in range(len(data[i])-1):\n",
    "                    if abs(i-j)==n:\n",
    "                        result = result+data[i][j]\n",
    "                \n",
    "        print(\"Contras :\")\n",
    "        print(result)"
   ]
  },
  {
   "cell_type": "code",
   "execution_count": 3,
   "metadata": {},
   "outputs": [],
   "source": [
    "from PIL import Image\n",
    "import os \n",
    "from io import BytesIO\n",
    "\n",
    "class Data:\n",
    "    def __init__(self):\n",
    "#         self.citra = [\n",
    "#             [1,0,3,2,1,0,2],\n",
    "#             [0,1,2,3,2,1,0],\n",
    "#             [2,0,1,2,3,0,2],\n",
    "#             [3,2,0,1,0,3,0],\n",
    "#             [1,3,2,0,1,2,3],\n",
    "#         ]\n",
    "        self.citra = [\n",
    "            [0,0,1,1],\n",
    "            [0,0,1,1],\n",
    "            [0,2,2,2],\n",
    "            [2,2,3,3]\n",
    "        ]\n",
    "        im = Image.open(\"2_bit.png\")\n",
    "        img=mpimg.imread('2_bit.png')\n",
    "        sh = plt.imshow(self.citra)\n",
    "        plt.show()\n",
    "        self.pixel=list(im.getdata())\n",
    "        width, height = im.size\n",
    "        self.pixel=[self.pixel[i * width:(i + 1) * width] for i in range(height)]\n",
    "#        \n",
    "        self.matriksIterasi =[\n",
    "            [0,0,0,0],\n",
    "            [0,0,0,0],\n",
    "            [0,0,0,0],\n",
    "            [0,0,0,0],\n",
    "        ]"
   ]
  },
  {
   "cell_type": "code",
   "execution_count": 4,
   "metadata": {},
   "outputs": [
    {
     "data": {
      "image/png": "[encoded data removed]",
      "text/plain": [
       "<Figure size 432x288 with 1 Axes>"
      ]
     },
     "metadata": {
      "needs_background": "light"
     },
     "output_type": "display_data"
    },
    {
     "name": "stdout",
     "output_type": "stream",
     "text": [
      "225\n",
      "Grayscale Dependenc Mariks\n",
      "\n",
      "Matriks coocurence\n"
     ]
    },
    {
     "data": {
      "image/png": "[encoded data removed]",
      "text/plain": [
       "<Figure size 432x288 with 1 Axes>"
      ]
     },
     "metadata": {
      "needs_background": "light"
     },
     "output_type": "display_data"
    },
    {
     "name": "stdout",
     "output_type": "stream",
     "text": [
      "[0.6194128576737272, 0.03488665923448532, 0.062422891118543294, 0.0003121516164994426]\n",
      "[0.03488665923448532, 0.024214046822742474, 0.009371980676328502, 0.0011222593831289483]\n",
      "[0.062422891118543294, 0.009371980676328502, 0.11041248606465998, 0.009215904868078781]\n",
      "[0.0003121516164994426, 0.0011222593831289483, 0.009215904868078781, 0.011296915644741732]\n",
      "\n"
     ]
    },
    {
     "data": {
      "image/png": "[encoded data removed]",
      "text/plain": [
       "<Figure size 432x288 with 1 Axes>"
      ]
     },
     "metadata": {
      "needs_background": "light"
     },
     "output_type": "display_data"
    },
    {
     "name": "stdout",
     "output_type": "stream",
     "text": [
      "Grayscale Dependenc Mariks 45 derajat\n",
      "\n",
      "Matriks coocurence\n"
     ]
    },
    {
     "data": {
      "image/png": "[encoded data removed]",
      "text/plain": [
       "<Figure size 432x288 with 1 Axes>"
      ]
     },
     "metadata": {
      "needs_background": "light"
     },
     "output_type": "display_data"
    },
    {
     "name": "stdout",
     "output_type": "stream",
     "text": [
      "[0.6494714524605829, 0.022664835164835164, 0.043903786430960344, 0.0006868131868131869]\n",
      "[0.022664835164835164, 0.036401098901098904, 0.009637780697563306, 0.00102275441949355]\n",
      "[0.043903786430960344, 0.009637780697563306, 0.12995699952221693, 0.008017797419971334]\n",
      "[0.0006868131868131869, 0.00102275441949355, 0.008017797419971334, 0.01230291447682752]\n",
      "\n"
     ]
    },
    {
     "data": {
      "image/png": "[encoded data removed]",
      "text/plain": [
       "<Figure size 432x288 with 1 Axes>"
      ]
     },
     "metadata": {
      "needs_background": "light"
     },
     "output_type": "display_data"
    },
    {
     "name": "stdout",
     "output_type": "stream",
     "text": [
      "Grayscale Dependenc Mariks 90 derajat\n",
      "\n",
      "Matriks coocurence\n"
     ]
    },
    {
     "data": {
      "image/png": "[encoded data removed]",
      "text/plain": [
       "<Figure size 432x288 with 1 Axes>"
      ]
     },
     "metadata": {
      "needs_background": "light"
     },
     "output_type": "display_data"
    },
    {
     "name": "stdout",
     "output_type": "stream",
     "text": [
      "[0.633110119047619, 0.02848214285714286, 0.05519345238095238, 0.0005729166666666667]\n",
      "[0.02848214285714286, 0.02956845238095238, 0.01046875, 0.0010044642857142856]\n",
      "[0.05519345238095238, 0.01046875, 0.11630952380952381, 0.009166666666666667]\n",
      "[0.0005729166666666667, 0.0010044642857142856, 0.009166666666666667, 0.011235119047619048]\n",
      "\n"
     ]
    },
    {
     "data": {
      "image/png": "[encoded data removed]",
      "text/plain": [
       "<Figure size 432x288 with 1 Axes>"
      ]
     },
     "metadata": {
      "needs_background": "light"
     },
     "output_type": "display_data"
    },
    {
     "name": "stdout",
     "output_type": "stream",
     "text": [
      "Grayscale Dependenc Mariks 135 derajat\n",
      "\n",
      "Matriks coocurence\n"
     ]
    },
    {
     "data": {
      "image/png": "[encoded data removed]",
      "text/plain": [
       "<Figure size 432x288 with 1 Axes>"
      ]
     },
     "metadata": {
      "needs_background": "light"
     },
     "output_type": "display_data"
    },
    {
     "name": "stdout",
     "output_type": "stream",
     "text": [
      "[0.6491131151457239, 0.0223288939321548, 0.04450101528905877, 0.0007913282369804109]\n",
      "[0.0223288939321548, 0.036804228380315336, 0.009600453893932154, 0.0009928929765886288]\n",
      "[0.04450101528905877, 0.009600453893932154, 0.1291656712852365, 0.008241758241758242]\n",
      "[0.0007913282369804109, 0.0009928929765886288, 0.008241758241758242, 0.012004300047778308]\n",
      "\n",
      "\n",
      "Normalisasi :\n",
      "[2.0642727079683603, 0.09161586073950205, 0.17264538375272073, 0.0003121516164994426]\n",
      "[0.09161586073950205, 0.09938465519987259, 0.031878624847374845, 0.0011222593831289483]\n",
      "[0.17264538375272073, 0.031878624847374845, 0.38897042721770986, 0.009215904868078781]\n",
      "[0.0003121516164994426, 0.0011222593831289483, 0.009215904868078781, 0.011296915644741732]\n",
      "\n",
      "ASM :\n",
      "4.500829398186801\n",
      "Contras :\n",
      "3.1449075290651383\n"
     ]
    }
   ],
   "source": [
    "glcm = Glcm()\n",
    "data = Data()\n",
    "nor0 = glcm.forOder(data.pixel, data.matriksIterasi)\n",
    "for i in nor0:\n",
    "    print(i)\n",
    "print()\n",
    "data = Data()\n",
    "nor45 = glcm.forOder45(data.pixel, data.matriksIterasi)\n",
    "for i in nor45:\n",
    "    print(i)\n",
    "print()\n",
    "data = Data()\n",
    "nor90 = glcm.forOder90(data.pixel, data.matriksIterasi)\n",
    "for i in nor90:\n",
    "    print(i)\n",
    "print()\n",
    "data = Data()\n",
    "nor135 = glcm.forOder135(data.pixel, data.matriksIterasi)\n",
    "for i in nor135:\n",
    "    print(i)\n",
    "print()\n",
    "for i in range(len(nor0)-1):\n",
    "    for j in range(len(nor0[i])-1):\n",
    "        nor0[i][j]=nor0[i][j]+nor45[i][j]+nor90[i][j]+nor135[i][j]/4\n",
    "print()\n",
    "print(\"Normalisasi :\")\n",
    "for i in nor0:\n",
    "    print(i)\n",
    "print()\n",
    "glcm.asmMethod(nor0)\n",
    "glcm.contrasMethod(nor0)"
   ]
  },
  {
   "cell_type": "code",
   "execution_count": 5,
   "metadata": {},
   "outputs": [
    {
     "name": "stdout",
     "output_type": "stream",
     "text": [
      "On branch master\n",
      "Your branch is up to date with 'origin/master'.\n",
      "\n",
      "Changes not staged for commit:\n",
      "  (use \"git add <file>...\" to update what will be committed)\n",
      "  (use \"git checkout -- <file>...\" to discard changes in working directory)\n",
      "\n",
      "\t\u001b[31mmodified:   .ipynb_checkpoints/Untitled-checkpoint.ipynb\u001b[m\n",
      "\n",
      "Untracked files:\n",
      "  (use \"git add <file>...\" to include in what will be committed)\n",
      "\n",
      "\t\u001b[31mUntitled.ipynb\u001b[m\n",
      "\n",
      "no changes added to commit (use \"git add\" and/or \"git commit -a\")\n"
     ]
    }
   ],
   "source": [
    "!git status"
   ]
  },
  {
   "cell_type": "code",
   "execution_count": 6,
   "metadata": {},
   "outputs": [
    {
     "name": "stdout",
     "output_type": "stream",
     "text": [
      "remote: Enumerating objects: 6, done.\u001b[K\n",
      "remote: Counting objects: 100% (6/6), done.\u001b[K\n",
      "remote: Compressing objects: 100% (4/4), done.\u001b[K\n",
      "remote: Total 4 (delta 0), reused 4 (delta 0), pack-reused 0\u001b[K\n",
      "Unpacking objects: 100% (4/4), done.\n",
      "From https://github.com/ariaji25/PCD\n",
      "   dd21b4e..8456899  master     -> origin/master\n",
      "Updating dd21b4e..8456899\n",
      "Fast-forward\n",
      " .ipynb_checkpoints/glcm-checkpoint.ipynb | 491 \u001b[32m+++++++++++++++++++++++++++++++\u001b[m\n",
      " glcm.ipynb                               |  55 \u001b[32m+++\u001b[m\u001b[31m-\u001b[m\n",
      " 2 files changed, 535 insertions(+), 11 deletions(-)\n",
      " create mode 100644 .ipynb_checkpoints/glcm-checkpoint.ipynb\n"
     ]
    }
   ],
   "source": [
    "!git pull"
   ]
  },
  {
   "cell_type": "code",
   "execution_count": null,
   "metadata": {},
   "outputs": [],
   "source": [
    "\n"
   ]
  }
 ],
 "metadata": {
  "kernelspec": {
   "display_name": "Python 3",
   "language": "python",
   "name": "python3"
  },
  "language_info": {
   "codemirror_mode": {
    "name": "ipython",
    "version": 3
   },
   "file_extension": ".py",
   "mimetype": "text/x-python",
   "name": "python",
   "nbconvert_exporter": "python",
   "pygments_lexer": "ipython3",
   "version": "3.7.3"
  }
 },
 "nbformat": 4,
 "nbformat_minor": 2
}
