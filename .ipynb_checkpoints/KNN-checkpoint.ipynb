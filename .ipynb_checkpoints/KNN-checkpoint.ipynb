{
 "cells": [
  {
   "cell_type": "code",
   "execution_count": 1,
   "metadata": {},
   "outputs": [],
   "source": [
    "import numpy as np  \n",
    "import matplotlib.pyplot as plt  \n",
    "import pandas as pd  "
   ]
  },
  {
   "cell_type": "code",
   "execution_count": 2,
   "metadata": {},
   "outputs": [],
   "source": [
    "# Set and input dataset into KNN\n",
    "dataset = pd.read_csv(\"GLCM_Feture.csv\")\n",
    "y = dataset['Class']\n",
    "x = dataset.drop('Class',axis = 1)\n",
    "x = x.drop('Id', axis = 1)\n",
    "i =len(x.columns)\n",
    "x = x.drop(x.columns[i-1], axis = 1)\n",
    "y.replace(('Golden_1','Golden_2', 'Golden_3'),(0,1,2), inplace=True)"
   ]
  },
  {
   "cell_type": "code",
   "execution_count": 3,
   "metadata": {},
   "outputs": [],
   "source": [
    "# split training data and testing data\n",
    "from sklearn.model_selection import train_test_split\n",
    "X_train, X_test, y_train, y_test = train_test_split(x,y,test_size=0.33, random_state=5)\n"
   ]
  },
  {
   "cell_type": "code",
   "execution_count": 4,
   "metadata": {},
   "outputs": [
    {
     "name": "stdout",
     "output_type": "stream",
     "text": [
      "0.86\n"
     ]
    }
   ],
   "source": [
    "# show the score or akurasi\n",
    "from sklearn.neighbors import KNeighborsClassifier\n",
    "clf = KNeighborsClassifier(n_neighbors=1) \n",
    "clf.fit(X_train, y_train)\n",
    "print(clf.score(X_test, y_test))"
   ]
  },
  {
   "cell_type": "code",
   "execution_count": 5,
   "metadata": {},
   "outputs": [
    {
     "data": {
      "text/plain": [
       "array([2, 2, 2, 2, 0, 2, 0, 2, 0, 1, 0, 1, 0, 1, 2, 2, 2, 1, 1, 2, 1, 1,\n",
       "       1, 2, 0, 0, 1, 2, 0, 1, 1, 1, 0, 0, 1, 2, 0, 0, 2, 2, 1, 2, 0, 1,\n",
       "       2, 2, 1, 1, 2, 2, 2, 0, 2, 0, 1, 1, 1, 2, 1, 1, 2, 2, 2, 0, 1, 0,\n",
       "       2, 0, 0, 2, 1, 2, 1, 2, 1, 1, 2, 1, 1, 1, 1, 1, 1, 2, 0, 0, 2, 2,\n",
       "       1, 2, 0, 0, 0, 2, 2, 0, 1, 0, 2, 0])"
      ]
     },
     "execution_count": 5,
     "metadata": {},
     "output_type": "execute_result"
    }
   ],
   "source": [
    "# predict the testing data\n",
    "y_pred = clf.predict(X_test)\n",
    "y_pred"
   ]
  },
  {
   "cell_type": "code",
   "execution_count": 51,
   "metadata": {},
   "outputs": [],
   "source": [
    "# y_test"
   ]
  },
  {
   "cell_type": "code",
   "execution_count": 6,
   "metadata": {},
   "outputs": [
    {
     "name": "stdout",
     "output_type": "stream",
     "text": [
      "[[25  7  4]\n",
      " [ 2 28  1]\n",
      " [ 0  0 33]]\n",
      "              precision    recall  f1-score   support\n",
      "\n",
      "           0       0.93      0.69      0.79        36\n",
      "           1       0.80      0.90      0.85        31\n",
      "           2       0.87      1.00      0.93        33\n",
      "\n",
      "    accuracy                           0.86       100\n",
      "   macro avg       0.86      0.87      0.86       100\n",
      "weighted avg       0.87      0.86      0.86       100\n",
      "\n"
     ]
    }
   ],
   "source": [
    "from sklearn.metrics import classification_report, confusion_matrix  \n",
    "print(confusion_matrix(y_test, y_pred))  \n",
    "print(classification_report(y_test, y_pred))  "
   ]
  },
  {
   "cell_type": "code",
   "execution_count": 8,
   "metadata": {},
   "outputs": [
    {
     "name": "stdout",
     "output_type": "stream",
     "text": [
      "0.14 0.86\n",
      "0.18 0.82\n",
      "0.16 0.84\n",
      "0.14 0.86\n",
      "0.14 0.86\n",
      "0.16 0.84\n",
      "0.17 0.83\n",
      "0.16 0.84\n",
      "0.16 0.84\n",
      "0.17 0.83\n",
      "0.18 0.82\n",
      "0.19 0.81\n",
      "0.19 0.81\n",
      "0.21 0.79\n",
      "0.19 0.81\n",
      "0.26 0.74\n",
      "0.23 0.77\n",
      "0.26 0.74\n",
      "0.28 0.72\n",
      "0.26 0.74\n",
      "0.25 0.75\n",
      "0.26 0.74\n",
      "0.26 0.74\n",
      "0.27 0.73\n",
      "0.27 0.73\n",
      "0.28 0.72\n",
      "0.29 0.71\n",
      "0.29 0.71\n",
      "0.29 0.71\n",
      "0.3 0.7\n",
      "0.29 0.71\n",
      "0.3 0.7\n",
      "0.31 0.69\n",
      "0.32 0.68\n",
      "0.3 0.7\n",
      "0.3 0.7\n",
      "0.31 0.69\n",
      "0.31 0.69\n",
      "0.3 0.7\n"
     ]
    }
   ],
   "source": [
    "class Result:\n",
    "    def __init__(self, error, akurasi):\n",
    "        self.error=error\n",
    "        self.akurasi=akurasi\n",
    "\n",
    "evaluation=[]\n",
    "\n",
    "# Calculating error for K values between 1 and 40\n",
    "for i in range(1, 40):  \n",
    "    knn = KNeighborsClassifier(n_neighbors=i)\n",
    "    knn.fit(X_train, y_train)\n",
    "    pred_i = knn.predict(X_test)\n",
    "    akurasi=knn.score(X_test, y_test)\n",
    "    res = Result(np.mean(pred_i != y_test), akurasi)\n",
    "    evaluation.append(res)\n",
    "\n",
    "print(\"Error, Akurasi\")\n",
    "for i in evaluation:\n",
    "    print(i.error, end = \",  \")\n",
    "    print(i.akurasi)"
   ]
  },
  {
   "cell_type": "code",
   "execution_count": 54,
   "metadata": {},
   "outputs": [
    {
     "data": {
      "text/plain": [
       "Text(0, 0.5, 'Mean Error')"
      ]
     },
     "execution_count": 54,
     "metadata": {},
     "output_type": "execute_result"
    },
    {
     "data": {
      "image/png": "[encoded data removed]",
      "text/plain": [
       "<Figure size 864x432 with 1 Axes>"
      ]
     },
     "metadata": {
      "needs_background": "light"
     },
     "output_type": "display_data"
    }
   ],
   "source": [
    "plt.figure(figsize=(12, 6))  \n",
    "plt.plot(range(1, 40), error, color='red', linestyle='dashed', marker='o',  \n",
    "         markerfacecolor='blue', markersize=10)\n",
    "plt.title('Error Rate K Value')  \n",
    "plt.xlabel('K Value')  \n",
    "plt.ylabel('Mean Error')  "
   ]
  }
 ],
 "metadata": {
  "kernelspec": {
   "display_name": "Python 3",
   "language": "python",
   "name": "python3"
  },
  "language_info": {
   "codemirror_mode": {
    "name": "ipython",
    "version": 3
   },
   "file_extension": ".py",
   "mimetype": "text/x-python",
   "name": "python",
   "nbconvert_exporter": "python",
   "pygments_lexer": "ipython3",
   "version": "3.7.3"
  }
 },
 "nbformat": 4,
 "nbformat_minor": 2
}
