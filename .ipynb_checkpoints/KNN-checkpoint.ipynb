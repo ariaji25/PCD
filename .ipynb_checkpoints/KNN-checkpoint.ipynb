{
 "cells": [
  {
   "cell_type": "code",
   "execution_count": 2,
   "metadata": {},
   "outputs": [],
   "source": [
    "import numpy as np  #array\n",
    "import matplotlib.pyplot as plt #plot diagram  \n",
    "import pandas as pd  #membaca file csv"
   ]
  },
  {
   "cell_type": "code",
   "execution_count": 3,
   "metadata": {},
   "outputs": [],
   "source": [
    "# Set and input dataset into KNN\n",
    "dataset = pd.read_csv(\"DatasetGLCM.csv\")\n",
    "y = dataset['Class']\n",
    "x = dataset.drop('Class',axis = 1)\n",
    "x = x.drop('Citra', axis = 1)\n",
    "i =len(x.columns)\n",
    "x = x.drop(x.columns[i-1], axis = 1)\n",
    "y.replace(('G1','G2','G3'),(0,1,2), inplace=True)#set class"
   ]
  },
  {
   "cell_type": "code",
   "execution_count": 4,
   "metadata": {},
   "outputs": [],
   "source": [
    "# split training data and testing data\n",
    "from sklearn.model_selection import train_test_split\n",
    "X_train, X_test, y_train, y_test = train_test_split(x,y,test_size=0.33, random_state=5)\n"
   ]
  },
  {
   "cell_type": "code",
   "execution_count": 5,
   "metadata": {},
   "outputs": [
    {
     "name": "stdout",
     "output_type": "stream",
     "text": [
      "0.92\n"
     ]
    }
   ],
   "source": [
    "# show the score or akurasi\n",
    "from sklearn.neighbors import KNeighborsClassifier #library KNN\n",
    "clf = KNeighborsClassifier(n_neighbors=1) \n",
    "clf.fit(X_train, y_train)#training\n",
    "print(clf.score(X_test, y_test))#testingnya"
   ]
  },
  {
   "cell_type": "code",
   "execution_count": 6,
   "metadata": {},
   "outputs": [
    {
     "data": {
      "text/plain": [
       "array([0, 2, 2, 0, 2, 1, 0, 1, 1, 1, 1, 2, 2, 2, 0, 0, 2, 2, 0, 0, 1, 2,\n",
       "       2, 1, 1, 2, 1, 1, 1, 2, 2, 1, 1, 0, 1, 0, 0, 2, 0, 2, 2, 1, 0, 0,\n",
       "       1, 2, 1, 2, 2, 0])"
      ]
     },
     "execution_count": 6,
     "metadata": {},
     "output_type": "execute_result"
    }
   ],
   "source": [
    "y_pred = clf.predict(X_test)#prediksi\n",
    "y_pred"
   ]
  },
  {
   "cell_type": "code",
   "execution_count": 12,
   "metadata": {},
   "outputs": [
    {
     "data": {
      "text/plain": [
       "82     1\n",
       "134    2\n",
       "114    2\n",
       "42     0\n",
       "109    2\n",
       "57     1\n",
       "1      0\n",
       "70     1\n",
       "25     0\n",
       "84     1\n",
       "66     1\n",
       "133    2\n",
       "102    2\n",
       "107    2\n",
       "26     0\n",
       "23     0\n",
       "123    2\n",
       "130    2\n",
       "21     0\n",
       "12     0\n",
       "71     1\n",
       "128    2\n",
       "48     0\n",
       "72     1\n",
       "88     1\n",
       "148    2\n",
       "74     1\n",
       "96     1\n",
       "63     1\n",
       "132    2\n",
       "39     0\n",
       "53     1\n",
       "79     1\n",
       "10     0\n",
       "50     1\n",
       "49     0\n",
       "43     0\n",
       "135    2\n",
       "40     0\n",
       "115    2\n",
       "142    2\n",
       "69     1\n",
       "17     0\n",
       "46     0\n",
       "54     1\n",
       "126    2\n",
       "61     1\n",
       "124    2\n",
       "117    2\n",
       "20     0\n",
       "Name: Class, dtype: int64"
      ]
     },
     "execution_count": 12,
     "metadata": {},
     "output_type": "execute_result"
    }
   ],
   "source": [
    "y_test"
   ]
  },
  {
   "cell_type": "code",
   "execution_count": null,
   "metadata": {},
   "outputs": [],
   "source": [
    "\n"
   ]
  },
  {
   "cell_type": "code",
   "execution_count": 14,
   "metadata": {},
   "outputs": [
    {
     "name": "stdout",
     "output_type": "stream",
     "text": [
      "Class Awal ; Class Prediksi KNN\n",
      "1 ; 0 => Incorrect\n",
      "2 ; 2 => Correct\n",
      "2 ; 2 => Correct\n",
      "0 ; 0 => Correct\n",
      "2 ; 2 => Correct\n",
      "1 ; 1 => Correct\n",
      "0 ; 0 => Correct\n",
      "1 ; 1 => Correct\n",
      "0 ; 1 => Incorrect\n",
      "1 ; 1 => Correct\n",
      "1 ; 1 => Correct\n",
      "2 ; 2 => Correct\n",
      "2 ; 2 => Correct\n",
      "2 ; 2 => Correct\n",
      "0 ; 0 => Correct\n",
      "0 ; 0 => Correct\n",
      "2 ; 2 => Correct\n",
      "2 ; 2 => Correct\n",
      "0 ; 0 => Correct\n",
      "0 ; 0 => Correct\n",
      "1 ; 1 => Correct\n",
      "2 ; 2 => Correct\n",
      "0 ; 2 => Incorrect\n",
      "1 ; 1 => Correct\n",
      "1 ; 1 => Correct\n",
      "2 ; 2 => Correct\n",
      "1 ; 1 => Correct\n",
      "1 ; 1 => Correct\n",
      "1 ; 1 => Correct\n",
      "2 ; 2 => Correct\n",
      "0 ; 2 => Incorrect\n",
      "1 ; 1 => Correct\n",
      "1 ; 1 => Correct\n",
      "0 ; 0 => Correct\n",
      "1 ; 1 => Correct\n",
      "0 ; 0 => Correct\n",
      "0 ; 0 => Correct\n",
      "2 ; 2 => Correct\n",
      "0 ; 0 => Correct\n",
      "2 ; 2 => Correct\n",
      "2 ; 2 => Correct\n",
      "1 ; 1 => Correct\n",
      "0 ; 0 => Correct\n",
      "0 ; 0 => Correct\n",
      "1 ; 1 => Correct\n",
      "2 ; 2 => Correct\n",
      "1 ; 1 => Correct\n",
      "2 ; 2 => Correct\n",
      "2 ; 2 => Correct\n"
     ]
    }
   ],
   "source": [
    "# predict the testing data\n",
    "r_test=[]\n",
    "for i in y_test:\n",
    "    r_test.append(i)\n",
    "r_test = np.array(r_test)\n",
    "print(\"Class Awal\", end= \" ; \")\n",
    "print(\"Class Prediksi KNN\")\n",
    "for j in range(len(r_test)-1):\n",
    "    print(r_test[j], end = \" ; \")\n",
    "    print(y_pred[j], end = \" => \")\n",
    "    if(r_test[j]==y_pred[j]):\n",
    "        print(\"Correct\")\n",
    "    else:\n",
    "        print(\"Incorrect\")"
   ]
  },
  {
   "cell_type": "code",
   "execution_count": null,
   "metadata": {},
   "outputs": [],
   "source": []
  },
  {
   "cell_type": "code",
   "execution_count": 19,
   "metadata": {},
   "outputs": [
    {
     "name": "stdout",
     "output_type": "stream",
     "text": [
      "Error, Akurasi\n",
      "0.08,  0.92\n",
      "0.14,  0.86\n",
      "0.12,  0.88\n",
      "0.14,  0.86\n",
      "0.1,  0.9\n",
      "0.1,  0.9\n",
      "0.12,  0.88\n",
      "0.12,  0.88\n",
      "0.1,  0.9\n",
      "0.1,  0.9\n",
      "0.14,  0.86\n",
      "0.14,  0.86\n",
      "0.12,  0.88\n",
      "0.14,  0.86\n",
      "0.12,  0.88\n",
      "0.12,  0.88\n",
      "0.2,  0.8\n",
      "0.2,  0.8\n",
      "0.22,  0.78\n",
      "0.2,  0.8\n",
      "0.2,  0.8\n",
      "0.2,  0.8\n",
      "0.22,  0.78\n",
      "0.18,  0.82\n",
      "0.22,  0.78\n",
      "0.18,  0.82\n",
      "0.18,  0.82\n",
      "0.18,  0.82\n",
      "0.18,  0.82\n",
      "0.16,  0.84\n",
      "0.18,  0.82\n",
      "0.18,  0.82\n",
      "0.3,  0.7\n",
      "0.3,  0.7\n",
      "0.3,  0.7\n",
      "0.3,  0.7\n",
      "0.32,  0.68\n",
      "0.3,  0.7\n",
      "0.28,  0.72\n"
     ]
    }
   ],
   "source": [
    "class Result:\n",
    "    def __init__(self, error, akurasi):\n",
    "        self.error=error\n",
    "        self.akurasi=akurasi\n",
    "\n",
    "evaluation=[]\n",
    "error=[]\n",
    "# Calculating error for K values between 1 and 40\n",
    "for i in range(1, 40):  \n",
    "    knn = KNeighborsClassifier(n_neighbors= i)\n",
    "    knn.fit(X_train, y_train)\n",
    "    pred_i = knn.predict(X_test)\n",
    "    error.append(np.mean(pred_i != y_test))\n",
    "    akurasi=knn.score(X_test, y_test)\n",
    "    res = Result(np.mean(pred_i != y_test), akurasi)\n",
    "    evaluation.append(res)\n",
    "\n",
    "print(\"Error, Akurasi\")\n",
    "for i in evaluation:\n",
    "    print(i.error, end = \",  \")\n",
    "    print(i.akurasi)"
   ]
  },
  {
   "cell_type": "code",
   "execution_count": 20,
   "metadata": {},
   "outputs": [
    {
     "data": {
      "text/plain": [
       "Text(0, 0.5, 'Mean Error')"
      ]
     },
     "execution_count": 20,
     "metadata": {},
     "output_type": "execute_result"
    },
    {
     "data": {
      "image/png": "[encoded data removed]",
      "text/plain": [
       "<Figure size 864x432 with 1 Axes>"
      ]
     },
     "metadata": {
      "needs_background": "light"
     },
     "output_type": "display_data"
    }
   ],
   "source": [
    "plt.figure(figsize=(12, 6))  \n",
    "plt.plot(range(1, 40), error, color='red', linestyle='dashed', marker='o',  \n",
    "         markerfacecolor='blue', markersize=10)\n",
    "plt.title('Error Rate K Value')  \n",
    "plt.xlabel('K Value')  \n",
    "plt.ylabel('Mean Error')  "
   ]
  }
 ],
 "metadata": {
  "kernelspec": {
   "display_name": "Python 3",
   "language": "python",
   "name": "python3"
  },
  "language_info": {
   "codemirror_mode": {
    "name": "ipython",
    "version": 3
   },
   "file_extension": ".py",
   "mimetype": "text/x-python",
   "name": "python",
   "nbconvert_exporter": "python",
   "pygments_lexer": "ipython3",
   "version": "3.7.3"
  }
 },
 "nbformat": 4,
 "nbformat_minor": 2
}
