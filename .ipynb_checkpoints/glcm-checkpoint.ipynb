{
 "cells": [
  {
   "cell_type": "code",
   "execution_count": 4,
   "metadata": {},
   "outputs": [],
   "source": [
    "import math\n",
    "import matplotlib.pyplot as plt\n",
    "import matplotlib.image as mpimg\n",
    "import numpy as nm\n",
    "\n",
    "class Glcm:\n",
    "    def __init__(self):\n",
    "        self.result =[] \n",
    "        \n",
    "    def forOder(self,a, b):\n",
    "        print(len(a))\n",
    "        size = 0\n",
    "        for i in a[0]:\n",
    "            size=size+1\n",
    "        for i in range(len(a)):\n",
    "                for j in range(size-1):\n",
    "                    p=a[i][j]\n",
    "                    q=a[i][j+1]\n",
    "                    b[p][q]=b[p][q]+1\n",
    "\n",
    "        matriksIterasi1=list(map(list,zip(*b)))\n",
    "        for i in range(len(b)):\n",
    "                for j in range(len(b)):\n",
    "                    b[i][j]=b[i][j]+matriksIterasi1[i][j]\n",
    "        print(\"Grayscale Dependenc Mariks\")\n",
    "        print(b)\n",
    "        count=0\n",
    "        for i in b:\n",
    "            for j in i:\n",
    "                count=count+j\n",
    "        print()\n",
    "        return self.normalisasi(b, count)\n",
    "\n",
    "    # 45 derajat\n",
    "    def forOder45(self,a, b):\n",
    "        size = 0\n",
    "        for i in a[0]:\n",
    "            size=size+1\n",
    "        for i in range(len(a)-1):\n",
    "                for j in range(size-1):\n",
    "                    p=a[i][j+1]\n",
    "                    q=a[i+1][j]\n",
    "                    \n",
    "                    b[p][q]=b[p][q]+1\n",
    "        matriksIterasi1=list(map(list,zip(*b)))\n",
    "        for i in range(len(b)):\n",
    "                for j in range(len(b)):\n",
    "                    b[i][j]=b[i][j]+matriksIterasi1[i][j]\n",
    "        print(\"Grayscale Dependenc Mariks 45 derajat\")\n",
    "        count=0\n",
    "        for i in b:\n",
    "            for j in i:\n",
    "                count=count+j\n",
    "        print()\n",
    "        return self.normalisasi(b, count)\n",
    "\n",
    "    # 90 derajat\n",
    "    def forOder90(self,a, b):\n",
    "        size = 0\n",
    "        for i in a[0]:\n",
    "            size=size+1\n",
    "        for i in range(len(a)-1):\n",
    "                for j in range(size):\n",
    "                    p=a[i][j]\n",
    "                    q=a[i+1][j]\n",
    "                    b[p][q]=b[p][q]+1          \n",
    "        matriksIterasi1=list(map(list,zip(*b)))\n",
    "        for i in range(4):\n",
    "                for j in range(4):\n",
    "                    b[i][j]=b[i][j]+matriksIterasi1[i][j]\n",
    "        print(\"Grayscale Dependenc Mariks 90 derajat\")\n",
    "        count=0\n",
    "        for i in b:\n",
    "            for j in i:\n",
    "                count=count+j\n",
    "        print()\n",
    "        return self.normalisasi(b, count)\n",
    "\n",
    "        # 135 derajat\n",
    "    def forOder135(self,a, b):\n",
    "        size = 0\n",
    "        for i in a[0]:\n",
    "            size=size+1\n",
    "        for i in range(len(a)-1):\n",
    "                for j in range(size-1):\n",
    "                    p=a[i][j]\n",
    "                    q=a[i+1][j+1]\n",
    "                    b[p][q]=b[p][q]+1\n",
    "\n",
    "        matriksIterasi1=list(map(list,zip(*b)))\n",
    "        for i in range(len(b)):\n",
    "                for j in range(len(b)):\n",
    "                    b[i][j]=b[i][j]+matriksIterasi1[i][j]\n",
    "        print(\"Grayscale Dependenc Mariks 135 derajat\")\n",
    "        count=0\n",
    "        for i in b:\n",
    "            for j in i:\n",
    "                count=count+j\n",
    "        print()\n",
    "        return self.normalisasi(b, count)\n",
    "\n",
    "    def normalisasi(self,data, counter):\n",
    "        print(\"Matriks coocurence\")\n",
    "        imgplt = plt.imshow(data)\n",
    "        plt.show()\n",
    "        for i in range(len(data)):\n",
    "                for j in range(len(data)):\n",
    "                     data[i][j]=data[i][j]/counter\n",
    "#         for i in data:\n",
    "#                 print(i)\n",
    "#         self.asmMethod(data)\n",
    "        return data\n",
    "\n",
    "    def asmMethod(self, data):\n",
    "        sume =0\n",
    "        for i in range(len(data)-1):\n",
    "            for j in range(len(data[i])-1):\n",
    "                sume =sume + data[i][j]*data[i][j]\n",
    "#                 sume = sume*sume\n",
    "        print(\"ASM :\")\n",
    "        print(sume)\n",
    "#         self.contrasMethod(data)\n",
    "    \n",
    "    \n",
    "    def contrasMethod(self, data):\n",
    "        result = 0\n",
    "        n = 0\n",
    "        for n in range(len(data)-1):\n",
    "            for i in range(len(data)-1):\n",
    "                for j in range(len(data[i])-1):\n",
    "                    if abs(i-j)==n:\n",
    "                        result = result+data[i][j]\n",
    "                \n",
    "        print(\"Contras :\")\n",
    "        print(result)\n",
    "    \n",
    "    def idmMethod(self, data):\n",
    "        result = 0\n",
    "        for i in range(len(data)-1):\n",
    "            for j in range(len(data)-1):\n",
    "                kiri = 1/(1+((i-j)**2))\n",
    "                tot = kiri*data[i][j]\n",
    "                result = result + tot\n",
    "        print(\"Invert Different Moment : \")\n",
    "        print(result)\n",
    "        \n",
    "    def ent2Method(this, data):\n",
    "        result = 0\n",
    "        for i in range(len(data)-1):\n",
    "            for j in range(len(data)-1):\n",
    "                value = data[i][j]*math.log2(data[i][j])\n",
    "                h = h + value\n",
    "        print(\"Entropy : \")\n",
    "        print(result)\n",
    "        \n",
    "    def corMethod(this, data):\n",
    "        data = nm.array(data)\n",
    "        result = 0\n",
    "        for i in range(len(data)-1):\n",
    "            for j in range(len(data)-1):\n",
    "                meanX = meanColumnMatrix(data[:,j])\n",
    "                meanY = meanRowMatrix(data[i,:])\n",
    "                stdCol = stdColumn(data[:,j], meanX)\n",
    "                stdrow = stdRow(data[i,:], meanY)\n",
    "                result = result + (((i*j*data[i][j]) - (meanX*meanY))/(stdCol*stdRow))\n",
    "        print(\"Corelation : \")\n",
    "        print(result)\n",
    "        \n",
    "    def varMethod(this, data):\n",
    "        data = nm.array(data)\n",
    "        result = 0\n",
    "        for i in range(len(data)-1):\n",
    "            for j in range(len(data)-1):\n",
    "                meanX = meanColumnMatrix(data[:,j])\n",
    "                meanY = meanRowMatrix(data[i,:])\n",
    "                result = result + ((i-meanX)*(j*meanY)*data[i,j])\n",
    "        print(\"Variance : \")\n",
    "        print(result)\n",
    "                \n",
    "    def meanColumnMatrix(this, kolom):\n",
    "        return sum(kolom)/len(kolom)\n",
    "        \n",
    "    def meanRowMatrix(this, row, baris):\n",
    "        return sum(baris)/len(kolom)\n",
    "    \n",
    "    def stdColumn(this, kolom, mean):\n",
    "        sum = 0\n",
    "        total = len(kolom)-1\n",
    "        for x in range(total):\n",
    "            atas = (kolom[x]-mean)**2\n",
    "            sum = sum + (atas/total)\n",
    "        return math.sqrt(sum)\n",
    "    \n",
    "    def stdRow(this, baris, mean):\n",
    "        sum = 0\n",
    "        total = len(baris)-1\n",
    "        for x in range(total):\n",
    "            atas = (baris[x]-mean)**2\n",
    "            sum = sum + (atas/total)\n",
    "        return math.sqrt(sum)"
   ]
  },
  {
   "cell_type": "code",
   "execution_count": 5,
   "metadata": {},
   "outputs": [],
   "source": [
    "from PIL import Image\n",
    "import os \n",
    "from io import BytesIO\n",
    "\n",
    "class Data:\n",
    "    def __init__(self):\n",
    "#         self.citra = [\n",
    "#             [1,0,3,2,1,0,2],\n",
    "#             [0,1,2,3,2,1,0],\n",
    "#             [2,0,1,2,3,0,2],\n",
    "#             [3,2,0,1,0,3,0],\n",
    "#             [1,3,2,0,1,2,3],\n",
    "#         ]\n",
    "        self.citra = [\n",
    "            [0,0,1,1],\n",
    "            [0,0,1,1],\n",
    "            [0,2,2,2],\n",
    "            [2,2,3,3]\n",
    "        ]\n",
    "        im = Image.open(\"2_bit.png\")\n",
    "        img=mpimg.imread('2_bit.png')\n",
    "        sh = plt.imshow(self.citra)\n",
    "        plt.show()\n",
    "        self.pixel=list(im.getdata())\n",
    "        width, height = im.size\n",
    "        self.pixel=[self.pixel[i * width:(i + 1) * width] for i in range(height)]\n",
    "#        \n",
    "        self.matriksIterasi =[\n",
    "            [0,0,0,0],\n",
    "            [0,0,0,0],\n",
    "            [0,0,0,0],\n",
    "            [0,0,0,0],\n",
    "        ]"
   ]
  },
  {
   "cell_type": "code",
   "execution_count": 6,
   "metadata": {},
   "outputs": [
    {
     "data": {
      "image/png": "[encoded data removed]",
      "text/plain": [
       "<Figure size 432x288 with 1 Axes>"
      ]
     },
     "metadata": {
      "needs_background": "light"
     },
     "output_type": "display_data"
    },
    {
     "name": "stdout",
     "output_type": "stream",
     "text": [
      "4\n",
      "Grayscale Dependenc Mariks\n",
      "[[4, 2, 1, 0], [2, 4, 0, 0], [1, 0, 6, 1], [0, 0, 1, 2]]\n",
      "\n",
      "Matriks coocurence\n"
     ]
    },
    {
     "data": {
      "image/png": "[encoded data removed]",
      "text/plain": [
       "<Figure size 432x288 with 1 Axes>"
      ]
     },
     "metadata": {
      "needs_background": "light"
     },
     "output_type": "display_data"
    },
    {
     "name": "stdout",
     "output_type": "stream",
     "text": [
      "[0.16666666666666666, 0.08333333333333333, 0.041666666666666664, 0.0]\n",
      "[0.08333333333333333, 0.16666666666666666, 0.0, 0.0]\n",
      "[0.041666666666666664, 0.0, 0.25, 0.041666666666666664]\n",
      "[0.0, 0.0, 0.041666666666666664, 0.08333333333333333]\n",
      "\n"
     ]
    },
    {
     "data": {
      "image/png": "[encoded data removed]",
      "text/plain": [
       "<Figure size 432x288 with 1 Axes>"
      ]
     },
     "metadata": {
      "needs_background": "light"
     },
     "output_type": "display_data"
    },
    {
     "name": "stdout",
     "output_type": "stream",
     "text": [
      "Grayscale Dependenc Mariks 45 derajat\n",
      "\n",
      "Matriks coocurence\n"
     ]
    },
    {
     "data": {
      "image/png": "[encoded data removed]",
      "text/plain": [
       "<Figure size 432x288 with 1 Axes>"
      ]
     },
     "metadata": {
      "needs_background": "light"
     },
     "output_type": "display_data"
    },
    {
     "name": "stdout",
     "output_type": "stream",
     "text": [
      "[0.2222222222222222, 0.05555555555555555, 0.0, 0.0]\n",
      "[0.05555555555555555, 0.1111111111111111, 0.1111111111111111, 0.0]\n",
      "[0.0, 0.1111111111111111, 0.2222222222222222, 0.05555555555555555]\n",
      "[0.0, 0.0, 0.05555555555555555, 0.0]\n",
      "\n"
     ]
    },
    {
     "data": {
      "image/png": "[encoded data removed]",
      "text/plain": [
       "<Figure size 432x288 with 1 Axes>"
      ]
     },
     "metadata": {
      "needs_background": "light"
     },
     "output_type": "display_data"
    },
    {
     "name": "stdout",
     "output_type": "stream",
     "text": [
      "Grayscale Dependenc Mariks 90 derajat\n",
      "\n",
      "Matriks coocurence\n"
     ]
    },
    {
     "data": {
      "image/png": "[encoded data removed]",
      "text/plain": [
       "<Figure size 432x288 with 1 Axes>"
      ]
     },
     "metadata": {
      "needs_background": "light"
     },
     "output_type": "display_data"
    },
    {
     "name": "stdout",
     "output_type": "stream",
     "text": [
      "[0.25, 0.0, 0.08333333333333333, 0.0]\n",
      "[0.0, 0.16666666666666666, 0.08333333333333333, 0.0]\n",
      "[0.08333333333333333, 0.08333333333333333, 0.08333333333333333, 0.08333333333333333]\n",
      "[0.0, 0.0, 0.08333333333333333, 0.0]\n",
      "\n"
     ]
    },
    {
     "data": {
      "image/png": "[encoded data removed]",
      "text/plain": [
       "<Figure size 432x288 with 1 Axes>"
      ]
     },
     "metadata": {
      "needs_background": "light"
     },
     "output_type": "display_data"
    },
    {
     "name": "stdout",
     "output_type": "stream",
     "text": [
      "Grayscale Dependenc Mariks 135 derajat\n",
      "\n",
      "Matriks coocurence\n"
     ]
    },
    {
     "data": {
      "image/png": "[encoded data removed]",
      "text/plain": [
       "<Figure size 432x288 with 1 Axes>"
      ]
     },
     "metadata": {
      "needs_background": "light"
     },
     "output_type": "display_data"
    },
    {
     "name": "stdout",
     "output_type": "stream",
     "text": [
      "[0.1111111111111111, 0.05555555555555555, 0.16666666666666666, 0.0]\n",
      "[0.05555555555555555, 0.1111111111111111, 0.05555555555555555, 0.0]\n",
      "[0.16666666666666666, 0.05555555555555555, 0.0, 0.1111111111111111]\n",
      "[0.0, 0.0, 0.1111111111111111, 0.0]\n",
      "\n",
      "\n",
      "Normalisasi :\n",
      "[0.6666666666666666, 0.1527777777777778, 0.16666666666666666, 0.0]\n",
      "[0.1527777777777778, 0.4722222222222222, 0.20833333333333331, 0.0]\n",
      "[0.16666666666666666, 0.20833333333333331, 0.5555555555555556, 0.041666666666666664]\n",
      "[0.0, 0.0, 0.041666666666666664, 0.08333333333333333]\n",
      "\n",
      "ASM :\n",
      "1.1651234567901234\n",
      "Contras :\n",
      "2.75\n"
     ]
    }
   ],
   "source": [
    "glcm = Glcm()\n",
    "data = Data()\n",
    "nor0 = glcm.forOder(data.citra, data.matriksIterasi)\n",
    "for i in nor0:\n",
    "    print(i)\n",
    "print()\n",
    "data = Data()\n",
    "nor45 = glcm.forOder45(data.citra, data.matriksIterasi)\n",
    "for i in nor45:\n",
    "    print(i)\n",
    "print()\n",
    "data = Data()\n",
    "nor90 = glcm.forOder90(data.citra, data.matriksIterasi)\n",
    "for i in nor90:\n",
    "    print(i)\n",
    "print()\n",
    "data = Data()\n",
    "nor135 = glcm.forOder135(data.citra, data.matriksIterasi)\n",
    "for i in nor135:\n",
    "    print(i)\n",
    "print()\n",
    "for i in range(len(nor0)-1):\n",
    "    for j in range(len(nor0[i])-1):\n",
    "        nor0[i][j]=nor0[i][j]+nor45[i][j]+nor90[i][j]+nor135[i][j]/4\n",
    "print()\n",
    "print(\"Normalisasi :\")\n",
    "for i in nor0:\n",
    "    print(i)\n",
    "print()\n",
    "glcm.asmMethod(nor0)\n",
    "glcm.contrasMethod(nor0)"
   ]
  },
  {
   "cell_type": "code",
   "execution_count": null,
   "metadata": {},
   "outputs": [],
   "source": []
  },
  {
   "cell_type": "code",
   "execution_count": null,
   "metadata": {},
   "outputs": [],
   "source": []
  },
  {
   "cell_type": "code",
   "execution_count": null,
   "metadata": {},
   "outputs": [],
   "source": [
    "\n"
   ]
  },
  {
   "cell_type": "code",
   "execution_count": null,
   "metadata": {},
   "outputs": [],
   "source": []
  },
  {
   "cell_type": "code",
   "execution_count": null,
   "metadata": {},
   "outputs": [],
   "source": []
  }
 ],
 "metadata": {
  "kernelspec": {
   "display_name": "Python 3",
   "language": "python",
   "name": "python3"
  },
  "language_info": {
   "codemirror_mode": {
    "name": "ipython",
    "version": 3
   },
   "file_extension": ".py",
   "mimetype": "text/x-python",
   "name": "python",
   "nbconvert_exporter": "python",
   "pygments_lexer": "ipython3",
   "version": "3.7.3"
  }
 },
 "nbformat": 4,
 "nbformat_minor": 2
}
