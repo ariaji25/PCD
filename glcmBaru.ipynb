{
 "cells": [
  {
   "cell_type": "code",
   "execution_count": 1,
   "metadata": {},
   "outputs": [],
   "source": [
    "import math\n",
    "import matplotlib.pyplot as plt\n",
    "import matplotlib.image as mpimg\n",
    "\n",
    "class Glcm:\n",
    "    def __init__(self):\n",
    "        self.result =[] \n",
    "        \n",
    "    def forOder(self,a, b):\n",
    "        print(len(a))\n",
    "        size = 0\n",
    "        for i in a[0]:\n",
    "            size=size+1\n",
    "        for i in range(len(a)):\n",
    "                for j in range(size-1):\n",
    "                    p=a[i][j]\n",
    "                    q=a[i][j+1]\n",
    "                    b[p][q]=b[p][q]+1\n",
    "\n",
    "        matriksIterasi1=list(map(list,zip(*b)))\n",
    "        for i in range(len(b)):\n",
    "                for j in range(len(b)):\n",
    "                    b[i][j]=b[i][j]+matriksIterasi1[i][j]\n",
    "        print(\"Grayscale Dependenc Mariks\")\n",
    "        count=0\n",
    "        for i in b:\n",
    "            for j in i:\n",
    "                count=count+j\n",
    "        print()\n",
    "        return self.normalisasi(b, count)\n",
    "\n",
    "    # 45 derajat\n",
    "    def forOder45(self,a, b):\n",
    "        size = 0\n",
    "        for i in a[0]:\n",
    "            size=size+1\n",
    "        for i in range(len(a)-1):\n",
    "                for j in range(size-1):\n",
    "                    p=a[i][j+1]\n",
    "                    q=a[i+1][j]\n",
    "                    \n",
    "                    b[p][q]=b[p][q]+1\n",
    "        matriksIterasi1=list(map(list,zip(*b)))\n",
    "        for i in range(len(b)):\n",
    "                for j in range(len(b)):\n",
    "                    b[i][j]=b[i][j]+matriksIterasi1[i][j]\n",
    "        print(\"Grayscale Dependenc Mariks 45 derajat\")\n",
    "        count=0\n",
    "        for i in b:\n",
    "            for j in i:\n",
    "                count=count+j\n",
    "        print()\n",
    "        return self.normalisasi(b, count)\n",
    "\n",
    "    # 90 derajat\n",
    "    def forOder90(self,a, b):\n",
    "        size = 0\n",
    "        for i in a[0]:\n",
    "            size=size+1\n",
    "        for i in range(len(a)-1):\n",
    "                for j in range(size):\n",
    "                    p=a[i][j]\n",
    "                    q=a[i+1][j]\n",
    "                    b[p][q]=b[p][q]+1          \n",
    "        matriksIterasi1=list(map(list,zip(*b)))\n",
    "        for i in range(4):\n",
    "                for j in range(4):\n",
    "                    b[i][j]=b[i][j]+matriksIterasi1[i][j]\n",
    "        print(\"Grayscale Dependenc Mariks 90 derajat\")\n",
    "        count=0\n",
    "        for i in b:\n",
    "            for j in i:\n",
    "                count=count+j\n",
    "        print()\n",
    "        return self.normalisasi(b, count)\n",
    "\n",
    "        # 135 derajat\n",
    "    def forOder135(self,a, b):\n",
    "        size = 0\n",
    "        for i in a[0]:\n",
    "            size=size+1\n",
    "        for i in range(len(a)-1):\n",
    "                for j in range(size-1):\n",
    "                    p=a[i][j]\n",
    "                    q=a[i+1][j+1]\n",
    "                    b[p][q]=b[p][q]+1\n",
    "\n",
    "        matriksIterasi1=list(map(list,zip(*b)))\n",
    "        for i in range(len(b)):\n",
    "                for j in range(len(b)):\n",
    "                    b[i][j]=b[i][j]+matriksIterasi1[i][j]\n",
    "        print(\"Grayscale Dependenc Mariks 135 derajat\")\n",
    "        count=0\n",
    "        for i in b:\n",
    "            for j in i:\n",
    "                count=count+j\n",
    "        print()\n",
    "        return self.normalisasi(b, count)\n",
    "\n",
    "    def normalisasi(self,data, counter):\n",
    "        print(\"Matriks coocurence\")\n",
    "        imgplt = plt.imshow(data)\n",
    "        plt.show()\n",
    "        for i in range(len(data)):\n",
    "                for j in range(len(data)):\n",
    "                     data[i][j]=data[i][j]/counter\n",
    "#         for i in data:\n",
    "#                 print(i)\n",
    "#         self.asmMethod(data)\n",
    "        return data\n",
    "\n",
    "    def asmMethod(self, data):\n",
    "        sume =0\n",
    "        for i in range(len(data)-1):\n",
    "            for j in range(len(data[i])-1):\n",
    "                sume =sume + data[i][j]*data[i][j]\n",
    "#                 sume = sume*sume\n",
    "        print(\"ASM :\")\n",
    "        print(sume)\n",
    "#         self.contrasMethod(data)\n",
    "    \n",
    "    \n",
    "    def contrasMethod(self, data):\n",
    "        result = 0\n",
    "        n = 0\n",
    "        for n in range(len(data)-1):\n",
    "            for i in range(len(data)-1):\n",
    "                for j in range(len(data[i])-1):\n",
    "                    if abs(i-j)==n:\n",
    "                        result = result+data[i][j]\n",
    "                \n",
    "        print(\"Contras :\")\n",
    "        print(result)"
   ]
  },
  {
   "cell_type": "code",
   "execution_count": 2,
   "metadata": {},
   "outputs": [],
   "source": [
    "from PIL import Image\n",
    "import os \n",
    "from io import BytesIO\n",
    "\n",
    "class Data:\n",
    "    def __init__(self):\n",
    "#         self.citra = [\n",
    "#             [1,0,3,2,1,0,2],\n",
    "#             [0,1,2,3,2,1,0],\n",
    "#             [2,0,1,2,3,0,2],\n",
    "#             [3,2,0,1,0,3,0],\n",
    "#             [1,3,2,0,1,2,3],\n",
    "#         ]\n",
    "        self.citra = [\n",
    "            [0,0,1,1],\n",
    "            [0,0,1,1],\n",
    "            [0,2,2,2],\n",
    "            [2,2,3,3]\n",
    "        ]\n",
    "        im = Image.open(\"2_bit.png\")\n",
    "        img=mpimg.imread('2_bit.png')\n",
    "        sh = plt.imshow(self.citra)\n",
    "        plt.show()\n",
    "        self.pixel=list(im.getdata())\n",
    "        width, height = im.size\n",
    "        self.pixel=[self.pixel[i * width:(i + 1) * width] for i in range(height)]\n",
    "#        \n",
    "        self.matriksIterasi =[\n",
    "            [0,0,0,0],\n",
    "            [0,0,0,0],\n",
    "            [0,0,0,0],\n",
    "            [0,0,0,0],\n",
    "        ]"
   ]
  },
  {
   "cell_type": "code",
   "execution_count": 3,
   "metadata": {},
   "outputs": [
    {
     "data": {
      "image/png": "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\n",
      "text/plain": [
       "<Figure size 432x288 with 1 Axes>"
      ]
     },
     "metadata": {
      "needs_background": "light"
     },
     "output_type": "display_data"
    },
    {
     "name": "stdout",
     "output_type": "stream",
     "text": [
      "4\n",
      "Grayscale Dependenc Mariks\n",
      "\n",
      "Matriks coocurence\n"
     ]
    },
    {
     "data": {
      "image/png": "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\n",
      "text/plain": [
       "<Figure size 432x288 with 1 Axes>"
      ]
     },
     "metadata": {
      "needs_background": "light"
     },
     "output_type": "display_data"
    },
    {
     "name": "stdout",
     "output_type": "stream",
     "text": [
      "[0.16666666666666666, 0.08333333333333333, 0.041666666666666664, 0.0]\n",
      "[0.08333333333333333, 0.16666666666666666, 0.0, 0.0]\n",
      "[0.041666666666666664, 0.0, 0.25, 0.041666666666666664]\n",
      "[0.0, 0.0, 0.041666666666666664, 0.08333333333333333]\n",
      "\n"
     ]
    },
    {
     "data": {
      "image/png": "iVBORw0KGgoAAAANSUhEUgAAAQoAAAD8CAYAAACPd+p5AAAABHNCSVQICAgIfAhkiAAAAAlwSFlzAAALEgAACxIB0t1+/AAAADl0RVh0U29mdHdhcmUAbWF0cGxvdGxpYiB2ZXJzaW9uIDMuMC4zLCBodHRwOi8vbWF0cGxvdGxpYi5vcmcvnQurowAADMFJREFUeJzt3X/oXfV9x/HnazHqrPVnHIaYaYciK92mNaSKMEQrqBQzqGX6R6tF+Y5SVztaaLuBY/1ndn+00Fm6BpVpKa1FO5eVjJKhpS2bzm9DtCaZbSYMk8rU2MYGre1X3vvjnrjbr9/kE70n536/fp8PuHzPuefjeX8uystzzzn3vFNVSNKh/Na0JyBp8TMoJDUZFJKaDApJTQaFpCaDQlLTREGR5JQkW5L8pPt78kHGvZpkW/faNElNScPLJPdRJPk74IWqui3Jp4GTq+pTC4zbX1XHTzBPSVM0aVA8CVxSVc8kWQ18t6rOXWCcQSEtYZMGxc+r6qRuOcDPDqzPGzcHbAPmgNuq6oGD7G8GmAFYwYoLjuOENz03DW9u1dumPQW9QS8/v/v5qjqtNe6o1oAk/wacvsCmvxpfqapKcrDUObOq9iT5PeDBJD+qqv+eP6iqNgIbAU7IKfWeXNaanhaR599/0bSnoDdo21c+8T+HM64ZFFX13oNtS/K/SVaPffV49iD72NP9fSrJd4HzgdcFhaTFadLLo5uA67vl64F/nj8gyclJjumWVwEXAzsmrCtpQJMGxW3A5Ul+Ary3WyfJuiR3dGN+H5hN8hjwEKNzFAaFtIQ0v3ocSlXtBV53IqGqZoGbuuV/B/5gkjqSpss7MyU1GRSSmgwKSU0GhaQmg0JSk0EhqcmgkNRkUEhqMigkNRkUkpoMCklNBoWkJoNCUpNBIanJoJDUZFBIajIoJDUZFJKaegmKJFckeTLJrq5j2PztxyS5t9v+SJKz+qgraRgTB0WSFcCXgCuBdwLXJXnnvGE3MmoOdDbwBeBzk9aVNJw+jijWA7uq6qmq+hXwDWDDvDEbgLu75fuAy7rOYpKWgD6CYg3w9Nj67u69BcdU1RywDzi1h9qSBjDR4/r7Nt579FiOm/JsJB3QxxHFHmDt2PoZ3XsLjklyFHAisHf+jqpqY1Wtq6p1Kzmmh6lJ6kMfQfEocE6SdyQ5GriWUavBceOtB68BHqxJ2qhLGtTEXz2qai7JzcB3gBXAXVW1Pclngdmq2gTcCXw1yS7gBUZhImmJ6OUcRVVtBjbPe+/WseVfAh/oo5ak4XlnpqQmg0JSk0EhqcmgkNRkUEhqMigkNRkUkpoMCklNBoWkJoNCUpNBIanJoJDUZFBIajIoJDUZFJKaDApJTQaFpCaDQlKTQSGpaajeozckeS7Jtu51Ux91JQ1j4ofrjvUevZxRl7BHk2yqqh3zht5bVTdPWk/S8IbqPSppCRuq9yjA+5M8nuS+JGsX2E6SmSSzSWZ/zSs9TE1SH4Y6mfkvwFlV9YfAFv6/s/lvsKWgtDgN0nu0qvZW1YFDhDuAC3qoK2kgg/QeTbJ6bPVqYGcPdSUNZKjeox9LcjUwx6j36A2T1pU0nKF6j34G+EwftSQNzzszJTUZFJKaDApJTQaFpCaDQlKTQSGpyaCQ1GRQSGoyKCQ1GRSSmgwKSU0GhaQmg0JSk0EhqcmgkNRkUEhqMigkNRkUkpr6ail4V5JnkzxxkO1J8sWu5eDjSd7dR11Jw+jriOIfgSsOsf1K4JzuNQN8uae6kgbQS1BU1fcYPV37YDYA99TIw8BJ8x7hL2kRG+ocxWG1HbSloLQ4LaqTmbYUlBanoYKi2XZQ0uI1VFBsAj7UXf24ENhXVc8MVFvShHrpFJbk68AlwKoku4G/BlYCVNU/MOoidhWwC3gJ+HAfdSUNo6+Wgtc1thfw0T5qSRreojqZKWlxMigkNRkUkpoMCklNBoWkJoNCUpNBIanJoJDUZFBIajIoJDUZFJKaDApJTQaFpCaDQlKTQSGpyaCQ1GRQSGoyKCQ1DdVS8JIk+5Js61639lFX0jB6eWYmo5aCtwP3HGLM96vqfT3VkzSgoVoKSlrC+jqiOBwXJXkM+CnwyaraPn9AkhlGTYw5luMGnNpw9m0+e9pTOGJW8ty0p6A36iuHN2yooNgKnFlV+5NcBTzAqLP5b6iqjcBGgBNySg00N0kNg1z1qKoXq2p/t7wZWJlk1RC1JU1ukKBIcnqSdMvru7p7h6gtaXJDtRS8BvhIkjngZeDarnuYpCVgqJaCtzO6fCppCfLOTElNBoWkJoNCUpNBIanJoJDUZFBIajIoJDUZFJKaDApJTQaFpCaDQlKTQSGpyaCQ1GRQSGoyKCQ1GRSSmgwKSU0GhaSmiYMiydokDyXZkWR7klsWGJMkX0yyK8njSd49aV1Jw+njmZlzwCeqamuStwM/TLKlqnaMjbmSUR+Pc4D3AF/u/kpaAiY+oqiqZ6pqa7f8C2AnsGbesA3APTXyMHBSktWT1pY0jF7PUSQ5CzgfeGTepjXA02Pru3l9mJBkJslsktlf80qfU5M0gd6CIsnxwP3Ax6vqxTezj6raWFXrqmrdSo7pa2qSJtRLUCRZySgkvlZV31pgyB5g7dj6Gd17kpaAPq56BLgT2FlVnz/IsE3Ah7qrHxcC+6rqmUlrSxpGH1c9LgY+CPwoybbuvb8Efhdeaym4GbgK2AW8BHy4h7qSBjJxUFTVD4A0xhTw0UlrSZoO78yU1GRQSGoyKCQ1GRSSmgwKSU0GhaQmg0JSk0EhqcmgkNRkUEhqMigkNRkUkpoMCklNBoWkJoNCUpNBIanJoJDUZFBIahqqpeAlSfYl2da9bp20rqThDNVSEOD7VfW+HupJGthQLQUlLWF9HFG85hAtBQEuSvIY8FPgk1W1fYF/fgaYATj6d05g391n9zk9HWEPn3fftKegN2jFYY4bqqXgVuDMqvoj4O+BBxbax3hLwaNOPK6vqUma0CAtBavqxara3y1vBlYmWdVHbUlH3iAtBZOc3o0jyfqu7t5Ja0saxlAtBa8BPpJkDngZuLbrHiZpCRiqpeDtwO2T1pI0Hd6ZKanJoJDUZFBIajIoJDUZFJKaDApJTQaFpCaDQlKTQSGpyaCQ1GRQSGoyKCQ1GRSSmgwKSU0GhaQmg0JSk0EhqcmgkNTUx8N1j03yn0ke61oK/s0CY45Jcm+SXUke6fp/SFoi+jiieAW4tOvZcR5wRZIL5425EfhZVZ0NfAH4XA91JQ2kj5aCdaBnB7Cye81/wvYG4O5u+T7gsgOP75e0+PXVAGhF96j+Z4EtVTW/peAa4GmAqpoD9gGn9lFb0pHXS1BU1atVdR5wBrA+ybvezH6SzCSZTTI7t++lPqYmqQe9XvWoqp8DDwFXzNu0B1gLkOQo4EQW6BRm71FpcerjqsdpSU7qln8buBz4r3nDNgHXd8vXAA/aKUxaOvpoKbgauDvJCkbB882q+naSzwKzVbWJUW/SrybZBbwAXNtDXUkD6aOl4OPA+Qu8f+vY8i+BD0xaS9J0eGempCaDQlKTQSGpyaCQ1GRQSGoyKCQ1GRSSmgwKSU0GhaQmg0JSk0EhqcmgkNRkUEhqMigkNRkUkpoMCklNBoWkJoNCUpNBIalpqN6jNyR5Lsm27nXTpHUlDaePp3Af6D26P8lK4AdJ/rWqHp437t6qurmHepIG1sdTuAto9R6VtISljz48XU+PHwJnA1+qqk/N234D8LfAc8CPgb+oqqcX2M8MMNOtngs8OfHkDt8q4PkB6w3Fz7X0DPnZzqyq01qDegmK13Y26hj2T8CfV9UTY++fCuyvqleS/Bnwp1V1aW+Fe5BktqrWTXseffNzLT2L8bMN0nu0qvZW1Svd6h3ABX3WlXRkDdJ7NMnqsdWrgZ2T1pU0nKF6j34sydXAHKPeozf0ULdvG6c9gSPEz7X0LLrP1us5CklvTd6ZKanJoJDUtOyDIskVSZ5MsivJp6c9n74kuSvJs0meaI9eOpKsTfJQkh3dTwZumfac+nA4P4WYpmV9jqI7AftjRldqdgOPAtdV1Y6pTqwHSf6Y0R2z91TVu6Y9n750V9BWV9XWJG9ndKPfnyz1f2dJArxt/KcQwC0L/BRiKpb7EcV6YFdVPVVVvwK+AWyY8px6UVXfY3SF6S2lqp6pqq3d8i8YXWpfM91ZTa5GFu1PIZZ7UKwBxm8l381b4D+65SLJWcD5wCPTnUk/kqxIsg14FthSVYvmcy33oNASleR44H7g41X14rTn04eqerWqzgPOANYnWTRfGZd7UOwB1o6tn9G9p0Ws+w5/P/C1qvrWtOfTt4P9FGKalntQPAqck+QdSY4GrgU2TXlOOoTupN+dwM6q+vy059OXw/kpxDQt66CoqjngZuA7jE6KfbOqtk93Vv1I8nXgP4Bzk+xOcuO059STi4EPApeOPTHtqmlPqgergYeSPM7of2BbqurbU57Ta5b15VFJh2dZH1FIOjwGhaQmg0JSk0EhqcmgkNRkUEhqMigkNf0fRN4FsCtISF8AAAAASUVORK5CYII=\n",
      "text/plain": [
       "<Figure size 432x288 with 1 Axes>"
      ]
     },
     "metadata": {
      "needs_background": "light"
     },
     "output_type": "display_data"
    },
    {
     "name": "stdout",
     "output_type": "stream",
     "text": [
      "Grayscale Dependenc Mariks 45 derajat\n",
      "\n",
      "Matriks coocurence\n"
     ]
    },
    {
     "data": {
      "image/png": "iVBORw0KGgoAAAANSUhEUgAAAQoAAAD8CAYAAACPd+p5AAAABHNCSVQICAgIfAhkiAAAAAlwSFlzAAALEgAACxIB0t1+/AAAADl0RVh0U29mdHdhcmUAbWF0cGxvdGxpYiB2ZXJzaW9uIDMuMC4zLCBodHRwOi8vbWF0cGxvdGxpYi5vcmcvnQurowAADSxJREFUeJzt3X+sXHWZx/H3x1LKVlR+JjSlC25K2DXuCtJ0MQRCQBIghm4iRvhDwUBKDKxI1kTdTdis/yzuH5oYjKYBsmCMYvhl17AhNWDQuCC1KQgFtJKstJAFCxS6aqXk2T/mlL1cb/stzLln7uW+X8nknpn5Ms8z4ebTueecOU+qCknan3dMugFJc59BIanJoJDUZFBIajIoJDUZFJKaxgqKJEck2ZDkV93Pw/ex7rUkm7vb+nFqShpexjmPIsm/AS9U1XVJvgAcXlWfn2Hdrqo6dIw+JU3QuEHxJHBmVT2bZBnwo6o6cYZ1BoU0j40bFC9V1WHddoAX996ftm4PsBnYA1xXVXft4/XWAmsB3rk0p/zlyoPfcm9z1RO/OXrSLcyad7z0v5NuQW/SK7z426pq/lIe1FqQ5IfAMTM89U9T71RVJdlX6hxXVduT/AVwb5JfVNWvpy+qqnXAOoBVHzikfnbPilZ7887pV14x6RZmzdI7H5x0C3qTfli3/feBrGsGRVV9eF/PJfmfJMum/Onx3D5eY3v386kkPwJOBv4kKCTNTeMeHl0PXNJtXwJ8f/qCJIcnWdJtHwWcBmwZs66kAY0bFNcB5yT5FfDh7j5JViW5oVvzV8DGJA8D9zHaR2FQSPNI80+P/amqHcDZMzy+Ebi82/4p8Nfj1JE0WZ6ZKanJoJDUZFBIajIoJDUZFJKaDApJTQaFpCaDQlKTQSGpyaCQ1GRQSGoyKCQ1GRSSmgwKSU0GhaQmg0JSk0EhqcmgkNTUS1AkOTfJk0m2dhPDpj+/JMmt3fMPJjm+j7qShjF2UCRZBHwdOA94H3BxkvdNW3YZo+FAK4GvAl8et66k4fTxiWI1sLWqnqqqPwLfBdZMW7MGuLnbvg04u5ssJmke6CMolgNPT7m/rXtsxjVVtQfYCRzZQ21JA5hTOzOTrE2yMcnG53e8Nul2JHX6CIrtwNQhocd2j824JslBwHuAHdNfqKrWVdWqqlp19JGLemhNUh/6CIqHgBOSvDfJwcBFjEYNTjV19OCFwL01zhh1SYMaa1IYjPY5JLkKuAdYBNxUVY8l+RKwsarWAzcC30qyFXiBUZhImifGDgqAqrobuHvaY9dO2f4D8LE+akka3pzamSlpbjIoJDUZFJKaDApJTQaFpCaDQlKTQSGpyaCQ1GRQSGoyKCQ1GRSSmgwKSU0GhaQmg0JSk0EhqcmgkNRkUEhqMigkNRkUkpqGmj16aZLnk2zubpf3UVfSMMa+uO6U2aPnMJoS9lCS9VW1ZdrSW6vqqnHrSRpeH1fhfn32KECSvbNHpwfFm/LEb47m9Cuv6KG9ueWZM97GI1fPOHXSHcyKldc8MOkWJm6o2aMAH03ySJLbkqyY4fk3jBR8dfeuHlqT1Iehdmb+B3B8Vf0NsIH/n2z+BlNHCi5ecuhArUlqGWT2aFXtqKrd3d0bgFN6qCtpIIPMHk2ybMrdC4DHe6graSBDzR79TJILgD2MZo9eOm5dScMZavboF4Ev9lFL0vA8M1NSk0EhqcmgkNRkUEhqMigkNRkUkpoMCklNBoWkJoNCUpNBIanJoJDUZFBIajIoJDUZFJKaDApJTQaFpCaDQlKTQSGpqa+RgjcleS7Jo/t4Pkm+1o0cfCTJB/uoK2kYfX2i+Hfg3P08fx5wQndbC3yjp7qSBtBLUFTV/Yyurr0va4BbauQB4LBpl/CXNIcNtY/igMYOOlJQmpvm1M5MRwpKc9NQQdEcOyhp7hoqKNYDn+yOfpwK7KyqZweqLWlMvUwKS/Id4EzgqCTbgH8GFgNU1TcZTRE7H9gK/A74VB91JQ2jr5GCFzeeL+DKPmpJGt6c2pkpaW4yKCQ1GRSSmgwKSU0GhaQmg0JSk0EhqcmgkNRkUEhqMigkNRkUkpoMCklNBoWkJoNCUpNBIanJoJDUZFBIajIoJDUNNVLwzCQ7k2zubtf2UVfSMHq5ZiajkYLXA7fsZ82Pq+ojPdWTNKChRgpKmsf6+kRxID6U5GHgGeBzVfXY9AVJ1jIaYswhLGXpnQ8O2N5Azjh10h3Mml9//JuTbmFWnH7/FZNuYfbccdsBLRsqKDYBx1XVriTnA3cxmmz+BlW1DlgH8O4cUQP1JqlhkKMeVfVyVe3qtu8GFic5aojaksY3SFAkOSZJuu3VXd0dQ9SWNL6hRgpeCHw6yR7g98BF3fQwSfPAUCMFr2d0+FTSPOSZmZKaDApJTQaFpCaDQlKTQSGpyaCQ1GRQSGoyKCQ1GRSSmgwKSU0GhaQmg0JSk0EhqcmgkNRkUEhqMigkNRkUkpoMCklNYwdFkhVJ7kuyJcljSa6eYU2SfC3J1iSPJPnguHUlDaePa2buAf6hqjYleRfw8yQbqmrLlDXnMZrjcQLwt8A3up+S5oGxP1FU1bNVtanbfgV4HFg+bdka4JYaeQA4LMmycWtLGkav+yiSHA+cDEyfBbgceHrK/W38aZiQZG2SjUk2vsruPluTNIbegiLJocDtwGer6uW38hpVta6qVlXVqsUs6as1SWPqJSiSLGYUEt+uqjtmWLIdWDHl/rHdY5LmgT6OegS4EXi8qr6yj2XrgU92Rz9OBXZW1bPj1pY0jD6OepwGfAL4RZLN3WP/CPw5vD5S8G7gfGAr8DvgUz3UlTSQsYOiqn4CpLGmgCvHrSVpMjwzU1KTQSGpyaCQ1GRQSGoyKCQ1GRSSmgwKSU0GhaQmg0JSk0EhqcmgkNRkUEhqMigkNRkUkpoMCklNBoWkJoNCUpNBIalpqJGCZybZmWRzd7t23LqShjPUSEGAH1fVR3qoJ2lgQ40UlDSP9fGJ4nX7GSkI8KEkDwPPAJ+rqsdm+O/XAmsBDmFpn63NGSuveWDSLcya0++/YtItzIqld87067yw9BYUjZGCm4DjqmpXkvOBuxhNNn+DqloHrAN4d46ovnqTNJ5BRgpW1ctVtavbvhtYnOSoPmpLmn2DjBRMcky3jiSru7o7xq0taRhDjRS8EPh0kj3A74GLuulhkuaBoUYKXg9cP24tSZPhmZmSmgwKSU0GhaQmg0JSk0EhqcmgkNRkUEhqMigkNRkUkpoMCklNBoWkJoNCUpNBIanJoJDUZFBIajIoJDUZFJKaDApJTX1cXPeQJD9L8nA3UvBfZlizJMmtSbYmebCb/yFpnujjE8Vu4Kyq+gBwEnBuklOnrbkMeLGqVgJfBb7cQ11JA+ljpGDtndkBLO5u06+wvQa4udu+DTh77+X7Jc19fQ0AWtRdqv85YENVTZ/Bthx4GqCq9gA7gSP7qC1p9vUSFFX1WlWdBBwLrE7y/rfyOknWJtmYZOOr7O6jNUk96PWoR1W9BNwHnDvtqe3ACoAkBwHvYYZJYVW1rqpWVdWqxSzpszVJY+jjqMfRSQ7rtv8MOAd4Ytqy9cAl3faFwL1OCpPmjz5GCi4Dbk6yiFHwfK+qfpDkS8DGqlrPaDbpt5JsBV4ALuqhrqSB9DFS8BHg5Bkev3bK9h+Aj41bS9JkeGampCaDQlKTQSGpyaCQ1GRQSGoyKCQ1GRSSmgwKSU0GhaQmg0JSk0EhqcmgkNRkUEhqMigkNRkUkpoMCklNBoWkJoNCUpNBIalpqNmjlyZ5Psnm7nb5uHUlDaePq3DvnT26K8li4CdJ/rOqHpi27taquqqHepIG1sdVuAtozR6VNI+ljzk83UyPnwMrga9X1eenPX8p8K/A88AvgWuq6ukZXmctsLa7eyLw5NjNHbijgN8OWG8ovq/5Z8j3dlxVHd1a1EtQvP5io4lhdwJ/X1WPTnn8SGBXVe1OcgXw8ao6q7fCPUiysapWTbqPvvm+5p+5+N4GmT1aVTuqau/U4RuAU/qsK2l2DTJ7NMmyKXcvAB4ft66k4Qw1e/QzSS4A9jCaPXppD3X7tm7SDcwS39f8M+feW6/7KCS9PXlmpqQmg0JS04IPiiTnJnkyydYkX5h0P31JclOS55I82l49fyRZkeS+JFu6rwxcPeme+nAgX4WYpAW9j6LbAftLRkdqtgEPARdX1ZaJNtaDJGcwOmP2lqp6/6T76Ut3BG1ZVW1K8i5GJ/r93Xz/f5YkwDunfhUCuHqGr0JMxEL/RLEa2FpVT1XVH4HvAmsm3FMvqup+RkeY3laq6tmq2tRtv8LoUPvyyXY1vhqZs1+FWOhBsRyYeir5Nt4Gv3QLRZLjgZOBByfbST+SLEqyGXgO2FBVc+Z9LfSg0DyV5FDgduCzVfXypPvpQ1W9VlUnAccCq5PMmT8ZF3pQbAdWTLl/bPeY5rDub/jbgW9X1R2T7qdv+/oqxCQt9KB4CDghyXuTHAxcBKyfcE/aj26n343A41X1lUn305cD+SrEJC3ooKiqPcBVwD2Mdop9r6oem2xX/UjyHeC/gBOTbEty2aR76slpwCeAs6ZcMe38STfVg2XAfUkeYfQP2Iaq+sGEe3rdgj48KunALOhPFJIOjEEhqcmgkNRkUEhqMigkNRkUkpoMCklN/weL5xJ2hWOFUQAAAABJRU5ErkJggg==\n",
      "text/plain": [
       "<Figure size 432x288 with 1 Axes>"
      ]
     },
     "metadata": {
      "needs_background": "light"
     },
     "output_type": "display_data"
    },
    {
     "name": "stdout",
     "output_type": "stream",
     "text": [
      "[0.2222222222222222, 0.05555555555555555, 0.0, 0.0]\n",
      "[0.05555555555555555, 0.1111111111111111, 0.1111111111111111, 0.0]\n",
      "[0.0, 0.1111111111111111, 0.2222222222222222, 0.05555555555555555]\n",
      "[0.0, 0.0, 0.05555555555555555, 0.0]\n",
      "\n"
     ]
    },
    {
     "data": {
      "image/png": "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\n",
      "text/plain": [
       "<Figure size 432x288 with 1 Axes>"
      ]
     },
     "metadata": {
      "needs_background": "light"
     },
     "output_type": "display_data"
    },
    {
     "name": "stdout",
     "output_type": "stream",
     "text": [
      "Grayscale Dependenc Mariks 90 derajat\n",
      "\n",
      "Matriks coocurence\n"
     ]
    },
    {
     "data": {
      "image/png": "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\n",
      "text/plain": [
       "<Figure size 432x288 with 1 Axes>"
      ]
     },
     "metadata": {
      "needs_background": "light"
     },
     "output_type": "display_data"
    },
    {
     "name": "stdout",
     "output_type": "stream",
     "text": [
      "[0.25, 0.0, 0.08333333333333333, 0.0]\n",
      "[0.0, 0.16666666666666666, 0.08333333333333333, 0.0]\n",
      "[0.08333333333333333, 0.08333333333333333, 0.08333333333333333, 0.08333333333333333]\n",
      "[0.0, 0.0, 0.08333333333333333, 0.0]\n",
      "\n"
     ]
    },
    {
     "data": {
      "image/png": "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\n",
      "text/plain": [
       "<Figure size 432x288 with 1 Axes>"
      ]
     },
     "metadata": {
      "needs_background": "light"
     },
     "output_type": "display_data"
    },
    {
     "name": "stdout",
     "output_type": "stream",
     "text": [
      "Grayscale Dependenc Mariks 135 derajat\n",
      "\n",
      "Matriks coocurence\n"
     ]
    },
    {
     "data": {
      "image/png": "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\n",
      "text/plain": [
       "<Figure size 432x288 with 1 Axes>"
      ]
     },
     "metadata": {
      "needs_background": "light"
     },
     "output_type": "display_data"
    },
    {
     "name": "stdout",
     "output_type": "stream",
     "text": [
      "[0.1111111111111111, 0.05555555555555555, 0.16666666666666666, 0.0]\n",
      "[0.05555555555555555, 0.1111111111111111, 0.05555555555555555, 0.0]\n",
      "[0.16666666666666666, 0.05555555555555555, 0.0, 0.1111111111111111]\n",
      "[0.0, 0.0, 0.1111111111111111, 0.0]\n",
      "\n",
      "\n",
      "Normalisasi :\n",
      "[0.6666666666666666, 0.1527777777777778, 0.16666666666666666, 0.0]\n",
      "[0.1527777777777778, 0.4722222222222222, 0.20833333333333331, 0.0]\n",
      "[0.16666666666666666, 0.20833333333333331, 0.5555555555555556, 0.041666666666666664]\n",
      "[0.0, 0.0, 0.041666666666666664, 0.08333333333333333]\n",
      "\n",
      "ASM :\n",
      "1.1651234567901234\n",
      "Contras :\n",
      "2.75\n"
     ]
    }
   ],
   "source": [
    "glcm = Glcm()\n",
    "data = Data()\n",
    "nor0 = glcm.forOder(data.pixel, data.matriksIterasi)\n",
    "for i in nor0:\n",
    "    print(i)\n",
    "print()\n",
    "data = Data()\n",
    "nor45 = glcm.forOder45(data.pixel, data.matriksIterasi)\n",
    "for i in nor45:\n",
    "    print(i)\n",
    "print()\n",
    "data = Data()\n",
    "nor90 = glcm.forOder90(data.pixel, data.matriksIterasi)\n",
    "for i in nor90:\n",
    "    print(i)\n",
    "print()\n",
    "data = Data()\n",
    "nor135 = glcm.forOder135(data.pixel, data.matriksIterasi)\n",
    "for i in nor135:\n",
    "    print(i)\n",
    "print()\n",
    "for i in range(len(nor0)-1):\n",
    "    for j in range(len(nor0[i])-1):\n",
    "        nor0[i][j]=nor0[i][j]+nor45[i][j]+nor90[i][j]+nor135[i][j]/4\n",
    "print()\n",
    "print(\"Normalisasi :\")\n",
    "for i in nor0:\n",
    "    print(i)\n",
    "print()\n",
    "glcm.asmMethod(nor0)\n",
    "glcm.contrasMethod(nor0)"
   ]
  },
  {
   "cell_type": "code",
   "execution_count": null,
   "metadata": {},
   "outputs": [],
   "source": []
  },
  {
   "cell_type": "code",
   "execution_count": null,
   "metadata": {},
   "outputs": [],
   "source": []
  },
  {
   "cell_type": "code",
   "execution_count": null,
   "metadata": {},
   "outputs": [],
   "source": [
    "\n"
   ]
  }
 ],
 "metadata": {
  "kernelspec": {
   "display_name": "Python 3",
   "language": "python",
   "name": "python3"
  },
  "language_info": {
   "codemirror_mode": {
    "name": "ipython",
    "version": 3
   },
   "file_extension": ".py",
   "mimetype": "text/x-python",
   "name": "python",
   "nbconvert_exporter": "python",
   "pygments_lexer": "ipython3",
   "version": "3.7.3"
  }
 },
 "nbformat": 4,
 "nbformat_minor": 2
}
=======
{
 "cells": [
  {
   "cell_type": "code",
   "execution_count": 2,
   "metadata": {},
   "outputs": [],
   "source": [
    "import math\n",
    "import matplotlib.pyplot as plt\n",
    "import matplotlib.image as mpimg\n",
    "\n",
    "class Glcm:\n",
    "    def __init__(self):\n",
    "        self.result =[] \n",
    "        \n",
    "    def forOder(self,a, b):\n",
    "        print(len(a))\n",
    "        size = 0\n",
    "        for i in a[0]:\n",
    "            size=size+1\n",
    "        for i in range(len(a)):\n",
    "                for j in range(size-1):\n",
    "                    p=a[i][j]\n",
    "                    q=a[i][j+1]\n",
    "                    b[p][q]=b[p][q]+1\n",
    "\n",
    "        matriksIterasi1=list(map(list,zip(*b)))\n",
    "        for i in range(len(b)):\n",
    "                for j in range(len(b)):\n",
    "                    b[i][j]=b[i][j]+matriksIterasi1[i][j]\n",
    "        print(\"Grayscale Dependenc Mariks\")\n",
    "        count=0\n",
    "        for i in b:\n",
    "            for j in i:\n",
    "                count=count+j\n",
    "        print()\n",
    "        return self.normalisasi(b, count)\n",
    "\n",
    "    # 45 derajat\n",
    "    def forOder45(self,a, b):\n",
    "        size = 0\n",
    "        for i in a[0]:\n",
    "            size=size+1\n",
    "        for i in range(len(a)-1):\n",
    "                for j in range(size-1):\n",
    "                    p=a[i][j+1]\n",
    "                    q=a[i+1][j]\n",
    "                    \n",
    "                    b[p][q]=b[p][q]+1\n",
    "        matriksIterasi1=list(map(list,zip(*b)))\n",
    "        for i in range(len(b)):\n",
    "                for j in range(len(b)):\n",
    "                    b[i][j]=b[i][j]+matriksIterasi1[i][j]\n",
    "        print(\"Grayscale Dependenc Mariks 45 derajat\")\n",
    "        count=0\n",
    "        for i in b:\n",
    "            for j in i:\n",
    "                count=count+j\n",
    "        print()\n",
    "        return self.normalisasi(b, count)\n",
    "\n",
    "    # 90 derajat\n",
    "    def forOder90(self,a, b):\n",
    "        size = 0\n",
    "        for i in a[0]:\n",
    "            size=size+1\n",
    "        for i in range(len(a)-1):\n",
    "                for j in range(size):\n",
    "                    p=a[i][j]\n",
    "                    q=a[i+1][j]\n",
    "                    b[p][q]=b[p][q]+1          \n",
    "        matriksIterasi1=list(map(list,zip(*b)))\n",
    "        for i in range(4):\n",
    "                for j in range(4):\n",
    "                    b[i][j]=b[i][j]+matriksIterasi1[i][j]\n",
    "        print(\"Grayscale Dependenc Mariks 90 derajat\")\n",
    "        count=0\n",
    "        for i in b:\n",
    "            for j in i:\n",
    "                count=count+j\n",
    "        print()\n",
    "        return self.normalisasi(b, count)\n",
    "\n",
    "        # 135 derajat\n",
    "    def forOder135(self,a, b):\n",
    "        size = 0\n",
    "        for i in a[0]:\n",
    "            size=size+1\n",
    "        for i in range(len(a)-1):\n",
    "                for j in range(size-1):\n",
    "                    p=a[i][j]\n",
    "                    q=a[i+1][j+1]\n",
    "                    b[p][q]=b[p][q]+1\n",
    "\n",
    "        matriksIterasi1=list(map(list,zip(*b)))\n",
    "        for i in range(len(b)):\n",
    "                for j in range(len(b)):\n",
    "                    b[i][j]=b[i][j]+matriksIterasi1[i][j]\n",
    "        print(\"Grayscale Dependenc Mariks 135 derajat\")\n",
    "        count=0\n",
    "        for i in b:\n",
    "            for j in i:\n",
    "                count=count+j\n",
    "        print()\n",
    "        return self.normalisasi(b, count)\n",
    "\n",
    "    def normalisasi(self,data, counter):\n",
    "        print(\"Matriks coocurence\")\n",
    "        imgplt = plt.imshow(data)\n",
    "        plt.show()\n",
    "        for i in range(len(data)):\n",
    "                for j in range(len(data)):\n",
    "                     data[i][j]=data[i][j]/counter\n",
    "#         for i in data:\n",
    "#                 print(i)\n",
    "#         self.asmMethod(data)\n",
    "        return data\n",
    "\n",
    "    def asmMethod(self, data):\n",
    "        sume =0\n",
    "        for i in range(len(data)-1):\n",
    "            for j in range(len(data[i])-1):\n",
    "                sume =sume + data[i][j]*data[i][j]\n",
    "#                 sume = sume*sume\n",
    "        print(\"ASM :\")\n",
    "        print(sume)\n",
    "#         self.contrasMethod(data)\n",
    "    \n",
    "    \n",
    "    def contrasMethod(self, data):\n",
    "        result = 0\n",
    "        n = 0\n",
    "        for n in range(len(data)-1):\n",
    "            for i in range(len(data)-1):\n",
    "                for j in range(len(data[i])-1):\n",
    "                    if abs(i-j)==n:\n",
    "                        result = result+data[i][j]\n",
    "                \n",
    "        print(\"Contras :\")\n",
    "        print(result)\n",
    "    \n",
    "    def idmMethod(self data):\n",
    "        result = 0\n",
    "        for i in range(len(data)-1):\n",
    "            for j in range(len(data)-1):\n",
    "                kiri = 1/(1+((i-j)**2))\n",
    "                tot = kiri*data[i][j]\n",
    "                result = result + tot\n",
    "        print(\\Invert Different Moment : \\)\n",
    "        print(result)\n",
    "        return result;\n",
    "            \n",
    "    def ent2Method(self data):\n",
    "        result = 0;\n",
    "        for i in range(len(data)-1):\n",
    "            for j in range(len(data)-1):\n",
    "                if(data[i][j]>0.0):\n",
    "                    value = data[i][j]*math.log2(data[i][j])\n",
    "                    result = result + value\n",
    "        print(\"Entropy : \")\n",
    "        print(result)\n",
    "            \n",
    "    def corMethod(this data):\n",
    "        data = nm.array(data)\n",
    "        result = 0\n",
    "        for i in range(len(data)-1):\n",
    "            for j in range(len(data)-1):\n",
    "                meanX = meanColumnMatrix(data[:j])\n",
    "                meanY = meanRowMatrix(data[i:])\n",
    "                stdCol = stdColumn(data[:j] meanX)\n",
    "                stdrow = stdRow(data[i:] meanY)\n",
    "                result = result + (((i*j*data[i][j]) - (meanX*meanY))/(stdCol*stdRow))\n",
    "        print(\\Corelation : \\)\n",
    "        print(result)\n",
    "            \n",
    "    def varMethod(this data):\n",
    "        data = nm.array(data)\n",
    "        result = 0\n",
    "        for i in range(len(data)-1):\n",
    "            for j in range(len(data)-1):\n",
    "                meanX = meanColumnMatrix(data[:j])\n",
    "                meanY = meanRowMatrix(data[i:])\n",
    "                result = result + ((i-meanX)*(j*meanY)*data[ij])\n",
    "        print(\\Variance : \\)\n",
    "        print(result)\n",
    "                    \n",
    "    def meanColumnMatrix(this kolom):\n",
    "        return sum(kolom)/len(kolom)\n",
    "            \n",
    "    def meanRowMatrix(this row baris):\n",
    "        return sum(baris)/len(kolom)\n",
    "        \n",
    "    def stdColumn(this kolom mean):\n",
    "        sum = 0\n",
    "        total = len(kolom)-1\n",
    "        for x in range(total):\n",
    "            atas = (kolom[x]-mean)**2\n",
    "            sum = sum + (atas/total)\n",
    "        return math.sqrt(sum)\n",
    "        \n",
    "    def stdRow(this baris mean):\n",
    "        sum = 0\n",
    "        total = len(baris)-1\n",
    "        for x in range(total):\n",
    "            atas = (baris[x]-mean)**2\n",
    "            sum = sum + (atas/total)\n",
    "        return math.sqrt(sum)"
   ]
  },
  {
   "cell_type": "code",
   "execution_count": 3,
   "metadata": {},
   "outputs": [],
   "source": [
    "from PIL import Image\n",
    "import os \n",
    "from io import BytesIO\n",
    "\n",
    "class Data:\n",
    "    def __init__(self):\n",
    "#         self.citra = [\n",
    "#             [1,0,3,2,1,0,2],\n",
    "#             [0,1,2,3,2,1,0],\n",
    "#             [2,0,1,2,3,0,2],\n",
    "#             [3,2,0,1,0,3,0],\n",
    "#             [1,3,2,0,1,2,3],\n",
    "#         ]\n",
    "        self.citra = [\n",
    "            [0,0,1,1],\n",
    "            [0,0,1,1],\n",
    "            [0,2,2,2],\n",
    "            [2,2,3,3]\n",
    "        ]\n",
    "        im = Image.open(\"2_bit.png\")\n",
    "        img=mpimg.imread('2_bit.png')\n",
    "        sh = plt.imshow(self.citra)\n",
    "        plt.show()\n",
    "        self.pixel=list(im.getdata())\n",
    "        width, height = im.size\n",
    "        self.pixel=[self.pixel[i * width:(i + 1) * width] for i in range(height)]\n",
    "#        \n",
    "        self.matriksIterasi =[\n",
    "            [0,0,0,0],\n",
    "            [0,0,0,0],\n",
    "            [0,0,0,0],\n",
    "            [0,0,0,0],\n",
    "        ]"
   ]
  },
  {
   "cell_type": "code",
   "execution_count": 4,
   "metadata": {},
   "outputs": [
    {
     "data": {
      "image/png": "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\n",
      "text/plain": [
       "<Figure size 432x288 with 1 Axes>"
      ]
     },
     "metadata": {
      "needs_background": "light"
     },
     "output_type": "display_data"
    },
    {
     "name": "stdout",
     "output_type": "stream",
     "text": [
      "225\n",
      "Grayscale Dependenc Mariks\n",
      "\n",
      "Matriks coocurence\n"
     ]
    },
    {
     "data": {
      "image/png": "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\n",
      "text/plain": [
       "<Figure size 432x288 with 1 Axes>"
      ]
     },
     "metadata": {
      "needs_background": "light"
     },
     "output_type": "display_data"
    },
    {
     "name": "stdout",
     "output_type": "stream",
     "text": [
      "[0.6194128576737272, 0.03488665923448532, 0.062422891118543294, 0.0003121516164994426]\n",
      "[0.03488665923448532, 0.024214046822742474, 0.009371980676328502, 0.0011222593831289483]\n",
      "[0.062422891118543294, 0.009371980676328502, 0.11041248606465998, 0.009215904868078781]\n",
      "[0.0003121516164994426, 0.0011222593831289483, 0.009215904868078781, 0.011296915644741732]\n",
      "\n"
     ]
    },
    {
     "data": {
      "image/png": "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\n",
      "text/plain": [
       "<Figure size 432x288 with 1 Axes>"
      ]
     },
     "metadata": {
      "needs_background": "light"
     },
     "output_type": "display_data"
    },
    {
     "name": "stdout",
     "output_type": "stream",
     "text": [
      "Grayscale Dependenc Mariks 45 derajat\n",
      "\n",
      "Matriks coocurence\n"
     ]
    },
    {
     "data": {
      "image/png": "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\n",
      "text/plain": [
       "<Figure size 432x288 with 1 Axes>"
      ]
     },
     "metadata": {
      "needs_background": "light"
     },
     "output_type": "display_data"
    },
    {
     "name": "stdout",
     "output_type": "stream",
     "text": [
      "[0.6494714524605829, 0.022664835164835164, 0.043903786430960344, 0.0006868131868131869]\n",
      "[0.022664835164835164, 0.036401098901098904, 0.009637780697563306, 0.00102275441949355]\n",
      "[0.043903786430960344, 0.009637780697563306, 0.12995699952221693, 0.008017797419971334]\n",
      "[0.0006868131868131869, 0.00102275441949355, 0.008017797419971334, 0.01230291447682752]\n",
      "\n"
     ]
    },
    {
     "data": {
      "image/png": "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\n",
      "text/plain": [
       "<Figure size 432x288 with 1 Axes>"
      ]
     },
     "metadata": {
      "needs_background": "light"
     },
     "output_type": "display_data"
    },
    {
     "name": "stdout",
     "output_type": "stream",
     "text": [
      "Grayscale Dependenc Mariks 90 derajat\n",
      "\n",
      "Matriks coocurence\n"
     ]
    },
    {
     "data": {
      "image/png": "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\n",
      "text/plain": [
       "<Figure size 432x288 with 1 Axes>"
      ]
     },
     "metadata": {
      "needs_background": "light"
     },
     "output_type": "display_data"
    },
    {
     "name": "stdout",
     "output_type": "stream",
     "text": [
      "[0.633110119047619, 0.02848214285714286, 0.05519345238095238, 0.0005729166666666667]\n",
      "[0.02848214285714286, 0.02956845238095238, 0.01046875, 0.0010044642857142856]\n",
      "[0.05519345238095238, 0.01046875, 0.11630952380952381, 0.009166666666666667]\n",
      "[0.0005729166666666667, 0.0010044642857142856, 0.009166666666666667, 0.011235119047619048]\n",
      "\n"
     ]
    },
    {
     "data": {
      "image/png": "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\n",
      "text/plain": [
       "<Figure size 432x288 with 1 Axes>"
      ]
     },
     "metadata": {
      "needs_background": "light"
     },
     "output_type": "display_data"
    },
    {
     "name": "stdout",
     "output_type": "stream",
     "text": [
      "Grayscale Dependenc Mariks 135 derajat\n",
      "\n",
      "Matriks coocurence\n"
     ]
    },
    {
     "data": {
      "image/png": "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\n",
      "text/plain": [
       "<Figure size 432x288 with 1 Axes>"
      ]
     },
     "metadata": {
      "needs_background": "light"
     },
     "output_type": "display_data"
    },
    {
     "name": "stdout",
     "output_type": "stream",
     "text": [
      "[0.6491131151457239, 0.0223288939321548, 0.04450101528905877, 0.0007913282369804109]\n",
      "[0.0223288939321548, 0.036804228380315336, 0.009600453893932154, 0.0009928929765886288]\n",
      "[0.04450101528905877, 0.009600453893932154, 0.1291656712852365, 0.008241758241758242]\n",
      "[0.0007913282369804109, 0.0009928929765886288, 0.008241758241758242, 0.012004300047778308]\n",
      "\n",
      "\n",
      "Normalisasi :\n",
      "[2.0642727079683603, 0.09161586073950205, 0.17264538375272073, 0.0003121516164994426]\n",
      "[0.09161586073950205, 0.09938465519987259, 0.031878624847374845, 0.0011222593831289483]\n",
      "[0.17264538375272073, 0.031878624847374845, 0.38897042721770986, 0.009215904868078781]\n",
      "[0.0003121516164994426, 0.0011222593831289483, 0.009215904868078781, 0.011296915644741732]\n",
      "\n",
      "ASM :\n",
      "4.500829398186801\n",
      "Contras :\n",
      "3.1449075290651383\n"
     ]
    }
   ],
   "source": [
    "glcm = Glcm()\n",
    "data = Data()\n",
    "nor0 = glcm.forOder(data.pixel, data.matriksIterasi)\n",
    "for i in nor0:\n",
    "    print(i)\n",
    "print()\n",
    "data = Data()\n",
    "nor45 = glcm.forOder45(data.pixel, data.matriksIterasi)\n",
    "for i in nor45:\n",
    "    print(i)\n",
    "print()\n",
    "data = Data()\n",
    "nor90 = glcm.forOder90(data.pixel, data.matriksIterasi)\n",
    "for i in nor90:\n",
    "    print(i)\n",
    "print()\n",
    "data = Data()\n",
    "nor135 = glcm.forOder135(data.pixel, data.matriksIterasi)\n",
    "for i in nor135:\n",
    "    print(i)\n",
    "print()\n",
    "for i in range(len(nor0)-1):\n",
    "    for j in range(len(nor0[i])-1):\n",
    "        nor0[i][j]=nor0[i][j]+nor45[i][j]+nor90[i][j]+nor135[i][j]/4\n",
    "print()\n",
    "print(\"Normalisasi :\")\n",
    "for i in nor0:\n",
    "    print(i)\n",
    "print()\n",
    "glcm.asmMethod(nor0)\n",
    "glcm.contrasMethod(nor0)"
   ]
  },
  {
   "cell_type": "code",
   "execution_count": 5,
   "metadata": {},
   "outputs": [
    {
     "name": "stdout",
     "output_type": "stream",
     "text": [
      "On branch master\n",
      "Your branch is up to date with 'origin/master'.\n",
      "\n",
      "Changes not staged for commit:\n",
      "  (use \"git add <file>...\" to update what will be committed)\n",
      "  (use \"git checkout -- <file>...\" to discard changes in working directory)\n",
      "\n",
      "\t\u001b[31mmodified:   .ipynb_checkpoints/Untitled-checkpoint.ipynb\u001b[m\n",
      "\n",
      "Untracked files:\n",
      "  (use \"git add <file>...\" to include in what will be committed)\n",
      "\n",
      "\t\u001b[31mUntitled.ipynb\u001b[m\n",
      "\n",
      "no changes added to commit (use \"git add\" and/or \"git commit -a\")\n"
     ]
    }
   ],
   "source": [
    "!git status"
   ]
  },
  {
   "cell_type": "code",
   "execution_count": 6,
   "metadata": {},
   "outputs": [
    {
     "name": "stdout",
     "output_type": "stream",
     "text": [
      "remote: Enumerating objects: 6, done.\u001b[K\n",
      "remote: Counting objects: 100% (6/6), done.\u001b[K\n",
      "remote: Compressing objects: 100% (4/4), done.\u001b[K\n",
      "remote: Total 4 (delta 0), reused 4 (delta 0), pack-reused 0\u001b[K\n",
      "Unpacking objects: 100% (4/4), done.\n",
      "From https://github.com/ariaji25/PCD\n",
      "   dd21b4e..8456899  master     -> origin/master\n",
      "Updating dd21b4e..8456899\n",
      "Fast-forward\n",
      " .ipynb_checkpoints/glcm-checkpoint.ipynb | 491 \u001b[32m+++++++++++++++++++++++++++++++\u001b[m\n",
      " glcm.ipynb                               |  55 \u001b[32m+++\u001b[m\u001b[31m-\u001b[m\n",
      " 2 files changed, 535 insertions(+), 11 deletions(-)\n",
      " create mode 100644 .ipynb_checkpoints/glcm-checkpoint.ipynb\n"
     ]
    }
   ],
   "source": [
    "!git pull"
   ]
  },
  {
   "cell_type": "code",
   "execution_count": null,
   "metadata": {},
   "outputs": [],
   "source": [
    "\n"
   ]
  }
 ],
 "metadata": {
  "kernelspec": {
   "display_name": "Python 3",
   "language": "python",
   "name": "python3"
  },
  "language_info": {
   "codemirror_mode": {
    "name": "ipython",
    "version": 3
   },
   "file_extension": ".py",
   "mimetype": "text/x-python",
   "name": "python",
   "nbconvert_exporter": "python",
   "pygments_lexer": "ipython3",
   "version": "3.7.3"
  }
 },
 "nbformat": 4,
 "nbformat_minor": 2
}
>>>>>>> 4c37e5ecd106216cbcc5817e1eae305add3fe6ad:glcmBaru.ipynb
